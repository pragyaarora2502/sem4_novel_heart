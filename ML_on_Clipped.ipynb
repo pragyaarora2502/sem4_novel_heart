{
 "cells": [
  {
   "cell_type": "markdown",
   "metadata": {},
   "source": [
    "### Import required libraries"
   ]
  },
  {
   "cell_type": "code",
   "execution_count": 1,
   "metadata": {},
   "outputs": [],
   "source": [
    "import numpy as np\n",
    "import pandas as pd\n",
    "import librosa\n",
    "import os, fnmatch\n",
    "import matplotlib.pyplot as plt\n",
    "import seaborn as sns\n",
    "import json\n",
    "\n",
    "import tensorflow as tf\n",
    "from tensorflow import keras\n",
    "### Use GPU if available\n",
    "physical_devices = tf.config.experimental.list_physical_devices('GPU')\n",
    "assert len(physical_devices) > 0, \"Not enough GPU hardware devices available\"\n",
    "config = tf.config.experimental.set_memory_growth(physical_devices[0], True)\n",
    "\n",
    "from sklearn.preprocessing import LabelEncoder\n",
    "from sklearn.preprocessing import StandardScaler\n",
    "from sklearn.model_selection import train_test_split\n",
    "from sklearn.ensemble import RandomForestClassifier\n",
    "from sklearn.ensemble import GradientBoostingClassifier\n",
    "from sklearn.ensemble import StackingClassifier\n",
    "from sklearn.linear_model import LogisticRegression\n",
    "from sklearn.svm import SVC\n",
    "from sklearn.naive_bayes import GaussianNB\n",
    "from sklearn.neural_network import MLPClassifier\n",
    "from sklearn.metrics import accuracy_score\n",
    "from sklearn.metrics import confusion_matrix\n",
    "from sklearn.metrics import classification_report"
   ]
  },
  {
   "cell_type": "code",
   "execution_count": null,
   "metadata": {},
   "outputs": [],
   "source": []
  },
  {
   "cell_type": "markdown",
   "metadata": {},
   "source": [
    "### Reading the audio file"
   ]
  },
  {
   "cell_type": "code",
   "execution_count": 2,
   "metadata": {},
   "outputs": [],
   "source": [
    "n_mfcc = 30"
   ]
  },
  {
   "cell_type": "code",
   "execution_count": 3,
   "metadata": {},
   "outputs": [],
   "source": [
    "data = pd.read_csv(\"Features_clipped.csv\")"
   ]
  },
  {
   "cell_type": "code",
   "execution_count": 4,
   "metadata": {},
   "outputs": [
    {
     "data": {
      "text/plain": [
       "normal        563\n",
       "murmur        265\n",
       "artifact      120\n",
       "extrastole     64\n",
       "extrahls       37\n",
       "Name: type, dtype: int64"
      ]
     },
     "execution_count": 4,
     "metadata": {},
     "output_type": "execute_result"
    }
   ],
   "source": [
    "data['type'].value_counts()"
   ]
  },
  {
   "cell_type": "code",
   "execution_count": null,
   "metadata": {},
   "outputs": [],
   "source": []
  },
  {
   "cell_type": "markdown",
   "metadata": {},
   "source": [
    "### Modelling on Data"
   ]
  },
  {
   "cell_type": "code",
   "execution_count": 5,
   "metadata": {},
   "outputs": [],
   "source": [
    "X = data.iloc[:, 0:n_mfcc+4]\n",
    "y = data['type']"
   ]
  },
  {
   "cell_type": "code",
   "execution_count": 6,
   "metadata": {},
   "outputs": [],
   "source": [
    "y_encoder = LabelEncoder().fit(y)\n",
    "y = y_encoder.transform(y)"
   ]
  },
  {
   "cell_type": "code",
   "execution_count": 7,
   "metadata": {},
   "outputs": [
    {
     "name": "stdout",
     "output_type": "stream",
     "text": [
      "Train size: 786 \n",
      "Test size: 263\n"
     ]
    }
   ],
   "source": [
    "X_train, X_test, y_train, y_test = train_test_split(X, y, test_size=0.25, random_state=31, stratify=y)\n",
    "print(\"Train size:\",len(X_train), \"\\nTest size:\", len(X_test))"
   ]
  },
  {
   "cell_type": "code",
   "execution_count": 8,
   "metadata": {},
   "outputs": [],
   "source": [
    "scaler = StandardScaler()\n",
    "scaler.fit(X_train)\n",
    "X_train_scaled = scaler.transform(X_train)\n",
    "X_test_scaled = scaler.transform(X_test)"
   ]
  },
  {
   "cell_type": "code",
   "execution_count": null,
   "metadata": {},
   "outputs": [],
   "source": []
  },
  {
   "cell_type": "markdown",
   "metadata": {},
   "source": [
    "### Random Forest Classifier"
   ]
  },
  {
   "cell_type": "code",
   "execution_count": 9,
   "metadata": {},
   "outputs": [
    {
     "data": {
      "text/plain": [
       "RandomForestClassifier(class_weight='balanced', oob_score=True, random_state=31)"
      ]
     },
     "execution_count": 9,
     "metadata": {},
     "output_type": "execute_result"
    }
   ],
   "source": [
    "forest = RandomForestClassifier(random_state=31, class_weight='balanced', oob_score=True)\n",
    "forest.fit(X_train, y_train)"
   ]
  },
  {
   "cell_type": "code",
   "execution_count": 10,
   "metadata": {},
   "outputs": [
    {
     "data": {
      "text/plain": [
       "0.9809885931558935"
      ]
     },
     "execution_count": 10,
     "metadata": {},
     "output_type": "execute_result"
    }
   ],
   "source": [
    "y_pred = forest.predict(X_test)\n",
    "accuracy_score(y_test, y_pred)"
   ]
  },
  {
   "cell_type": "code",
   "execution_count": 11,
   "metadata": {},
   "outputs": [
    {
     "data": {
      "text/plain": [
       "0.9631043256997456"
      ]
     },
     "execution_count": 11,
     "metadata": {},
     "output_type": "execute_result"
    }
   ],
   "source": [
    "forest.oob_score_"
   ]
  },
  {
   "cell_type": "code",
   "execution_count": 12,
   "metadata": {},
   "outputs": [
    {
     "data": {
      "image/png": "[encoded data removed]",
      "text/plain": [
       "<Figure size 432x288 with 2 Axes>"
      ]
     },
     "metadata": {
      "needs_background": "light"
     },
     "output_type": "display_data"
    }
   ],
   "source": [
    "sns.heatmap(confusion_matrix(y_test,y_pred),annot=True,cmap=\"YlGnBu\")\n",
    "plt.savefig(\"RandomForest.jpg\")"
   ]
  },
  {
   "cell_type": "code",
   "execution_count": 13,
   "metadata": {},
   "outputs": [
    {
     "name": "stdout",
     "output_type": "stream",
     "text": [
      "\n",
      "Classification report on test data using Random Forest: \n",
      "               precision    recall  f1-score   support\n",
      "\n",
      "           0       0.94      0.97      0.95        30\n",
      "           1       1.00      0.89      0.94         9\n",
      "           2       1.00      1.00      1.00        16\n",
      "           3       1.00      0.97      0.98        67\n",
      "           4       0.98      0.99      0.99       141\n",
      "\n",
      "    accuracy                           0.98       263\n",
      "   macro avg       0.98      0.96      0.97       263\n",
      "weighted avg       0.98      0.98      0.98       263\n",
      "\n"
     ]
    }
   ],
   "source": [
    "y_pred = forest.predict(X_test)\n",
    "print(\"\\nClassification report on test data using Random Forest: \\n\", classification_report(y_test, y_pred))"
   ]
  },
  {
   "cell_type": "code",
   "execution_count": null,
   "metadata": {},
   "outputs": [],
   "source": []
  },
  {
   "cell_type": "markdown",
   "metadata": {},
   "source": [
    "### Gradient Boosting Algorithm"
   ]
  },
  {
   "cell_type": "code",
   "execution_count": 14,
   "metadata": {},
   "outputs": [
    {
     "data": {
      "text/plain": [
       "GradientBoostingClassifier(random_state=31)"
      ]
     },
     "execution_count": 14,
     "metadata": {},
     "output_type": "execute_result"
    }
   ],
   "source": [
    "gradient = GradientBoostingClassifier(random_state=31)\n",
    "gradient.fit(X_train, y_train)"
   ]
  },
  {
   "cell_type": "code",
   "execution_count": 15,
   "metadata": {},
   "outputs": [
    {
     "data": {
      "text/plain": [
       "0.9847908745247148"
      ]
     },
     "execution_count": 15,
     "metadata": {},
     "output_type": "execute_result"
    }
   ],
   "source": [
    "y_pred = gradient.predict(X_test)\n",
    "accuracy_score(y_test, y_pred)"
   ]
  },
  {
   "cell_type": "code",
   "execution_count": 16,
   "metadata": {},
   "outputs": [
    {
     "name": "stdout",
     "output_type": "stream",
     "text": [
      "\n",
      "Classification report on test data using Gradient Boosting: \n",
      "               precision    recall  f1-score   support\n",
      "\n",
      "           0       0.97      1.00      0.98        30\n",
      "           1       1.00      0.89      0.94         9\n",
      "           2       1.00      0.94      0.97        16\n",
      "           3       0.97      0.97      0.97        67\n",
      "           4       0.99      1.00      1.00       141\n",
      "\n",
      "    accuracy                           0.98       263\n",
      "   macro avg       0.99      0.96      0.97       263\n",
      "weighted avg       0.98      0.98      0.98       263\n",
      "\n"
     ]
    }
   ],
   "source": [
    "y_pred = gradient.predict(X_test)\n",
    "print(\"\\nClassification report on test data using Gradient Boosting: \\n\", classification_report(y_test, y_pred))"
   ]
  },
  {
   "cell_type": "code",
   "execution_count": 17,
   "metadata": {},
   "outputs": [
    {
     "data": {
      "image/png": "[encoded data removed]",
      "text/plain": [
       "<Figure size 432x288 with 2 Axes>"
      ]
     },
     "metadata": {
      "needs_background": "light"
     },
     "output_type": "display_data"
    }
   ],
   "source": [
    "sns.heatmap(confusion_matrix(y_test, y_pred), annot=True, cmap=\"YlGnBu\")\n",
    "plt.savefig(\"GradientBoosting.jpg\")"
   ]
  },
  {
   "cell_type": "code",
   "execution_count": null,
   "metadata": {},
   "outputs": [],
   "source": []
  },
  {
   "cell_type": "markdown",
   "metadata": {},
   "source": [
    "### Support Vector Classifier"
   ]
  },
  {
   "cell_type": "code",
   "execution_count": 18,
   "metadata": {},
   "outputs": [
    {
     "data": {
      "text/plain": [
       "SVC(class_weight='balanced', random_state=9)"
      ]
     },
     "execution_count": 18,
     "metadata": {},
     "output_type": "execute_result"
    }
   ],
   "source": [
    "svc = SVC(random_state=9, class_weight='balanced')\n",
    "svc.fit(X_train_scaled, y_train)"
   ]
  },
  {
   "cell_type": "code",
   "execution_count": 19,
   "metadata": {},
   "outputs": [
    {
     "data": {
      "text/plain": [
       "0.8631178707224335"
      ]
     },
     "execution_count": 19,
     "metadata": {},
     "output_type": "execute_result"
    }
   ],
   "source": [
    "y_pred = svc.predict(X_test_scaled)\n",
    "accuracy_score(y_test, y_pred)"
   ]
  },
  {
   "cell_type": "code",
   "execution_count": 20,
   "metadata": {},
   "outputs": [
    {
     "data": {
      "image/png": "[encoded data removed]",
      "text/plain": [
       "<Figure size 432x288 with 2 Axes>"
      ]
     },
     "metadata": {
      "needs_background": "light"
     },
     "output_type": "display_data"
    }
   ],
   "source": [
    "sns.heatmap(confusion_matrix(y_test, y_pred), annot=True, cmap=\"YlGnBu\")\n",
    "plt.savefig(\"SVC.jpg\")"
   ]
  },
  {
   "cell_type": "code",
   "execution_count": 21,
   "metadata": {},
   "outputs": [
    {
     "name": "stdout",
     "output_type": "stream",
     "text": [
      "\n",
      "Classification report on test data using Support Vector Classifier: \n",
      "               precision    recall  f1-score   support\n",
      "\n",
      "           0       0.88      0.97      0.92        30\n",
      "           1       0.43      1.00      0.60         9\n",
      "           2       0.64      0.88      0.74        16\n",
      "           3       0.84      0.84      0.84        67\n",
      "           4       0.99      0.84      0.91       141\n",
      "\n",
      "    accuracy                           0.86       263\n",
      "   macro avg       0.75      0.90      0.80       263\n",
      "weighted avg       0.90      0.86      0.87       263\n",
      "\n"
     ]
    }
   ],
   "source": [
    "y_pred = svc.predict(X_test_scaled)\n",
    "print(\"\\nClassification report on test data using Support Vector Classifier: \\n\", classification_report(y_test, y_pred))"
   ]
  },
  {
   "cell_type": "code",
   "execution_count": null,
   "metadata": {},
   "outputs": [],
   "source": []
  },
  {
   "cell_type": "markdown",
   "metadata": {},
   "source": [
    "### Gaussian Naive Bayes"
   ]
  },
  {
   "cell_type": "code",
   "execution_count": 22,
   "metadata": {},
   "outputs": [
    {
     "data": {
      "text/plain": [
       "GaussianNB()"
      ]
     },
     "execution_count": 22,
     "metadata": {},
     "output_type": "execute_result"
    }
   ],
   "source": [
    "gaussian_nb = GaussianNB()\n",
    "gaussian_nb.fit(X_train_scaled, y_train)"
   ]
  },
  {
   "cell_type": "code",
   "execution_count": 23,
   "metadata": {},
   "outputs": [
    {
     "data": {
      "text/plain": [
       "0.688212927756654"
      ]
     },
     "execution_count": 23,
     "metadata": {},
     "output_type": "execute_result"
    }
   ],
   "source": [
    "y_pred = gaussian_nb.predict(X_test_scaled)\n",
    "accuracy_score(y_test, y_pred)"
   ]
  },
  {
   "cell_type": "code",
   "execution_count": 24,
   "metadata": {},
   "outputs": [
    {
     "data": {
      "image/png": "[encoded data removed]",
      "text/plain": [
       "<Figure size 432x288 with 2 Axes>"
      ]
     },
     "metadata": {
      "needs_background": "light"
     },
     "output_type": "display_data"
    }
   ],
   "source": [
    "sns.heatmap(confusion_matrix(y_test, y_pred), annot=True, cmap=\"YlGnBu\")\n",
    "plt.savefig(\"NaiveBayes.jpg\")"
   ]
  },
  {
   "cell_type": "code",
   "execution_count": 25,
   "metadata": {},
   "outputs": [
    {
     "name": "stdout",
     "output_type": "stream",
     "text": [
      "\n",
      "Classification report on test data using Gaussian Naive Bayes: \n",
      "               precision    recall  f1-score   support\n",
      "\n",
      "           0       0.69      0.97      0.81        30\n",
      "           1       0.75      1.00      0.86         9\n",
      "           2       0.83      0.62      0.71        16\n",
      "           3       0.51      0.70      0.59        67\n",
      "           4       0.82      0.61      0.70       141\n",
      "\n",
      "    accuracy                           0.69       263\n",
      "   macro avg       0.72      0.78      0.73       263\n",
      "weighted avg       0.72      0.69      0.69       263\n",
      "\n"
     ]
    }
   ],
   "source": [
    "y_pred = gaussian_nb.predict(X_test_scaled)\n",
    "print(\"\\nClassification report on test data using Gaussian Naive Bayes: \\n\", classification_report(y_test, y_pred))"
   ]
  },
  {
   "cell_type": "code",
   "execution_count": null,
   "metadata": {},
   "outputs": [],
   "source": []
  },
  {
   "cell_type": "markdown",
   "metadata": {},
   "source": [
    "### Multi Layer Perceptron"
   ]
  },
  {
   "cell_type": "code",
   "execution_count": 26,
   "metadata": {},
   "outputs": [
    {
     "name": "stderr",
     "output_type": "stream",
     "text": [
      "/home/durgesh/.local/lib/python3.8/site-packages/sklearn/neural_network/_multilayer_perceptron.py:582: ConvergenceWarning: Stochastic Optimizer: Maximum iterations (200) reached and the optimization hasn't converged yet.\n",
      "  warnings.warn(\n"
     ]
    },
    {
     "data": {
      "text/plain": [
       "MLPClassifier(random_state=9)"
      ]
     },
     "execution_count": 26,
     "metadata": {},
     "output_type": "execute_result"
    }
   ],
   "source": [
    "mlp=MLPClassifier(random_state=9)\n",
    "mlp.fit(X_train_scaled,y_train)"
   ]
  },
  {
   "cell_type": "code",
   "execution_count": 27,
   "metadata": {},
   "outputs": [
    {
     "data": {
      "text/plain": [
       "0.9505703422053232"
      ]
     },
     "execution_count": 27,
     "metadata": {},
     "output_type": "execute_result"
    }
   ],
   "source": [
    "y_pred=mlp.predict(X_test_scaled)\n",
    "accuracy_score(y_test,y_pred)"
   ]
  },
  {
   "cell_type": "code",
   "execution_count": 28,
   "metadata": {},
   "outputs": [
    {
     "data": {
      "image/png": "[encoded data removed]",
      "text/plain": [
       "<Figure size 432x288 with 2 Axes>"
      ]
     },
     "metadata": {
      "needs_background": "light"
     },
     "output_type": "display_data"
    }
   ],
   "source": [
    "sns.heatmap(confusion_matrix(y_test,y_pred),annot=True,cmap=\"YlGnBu\")\n",
    "plt.savefig(\"MLPClassifier.jpg\")"
   ]
  },
  {
   "cell_type": "code",
   "execution_count": 29,
   "metadata": {
    "scrolled": true
   },
   "outputs": [
    {
     "name": "stdout",
     "output_type": "stream",
     "text": [
      "\n",
      "Classification report on test data using Multi Layer Perceptron: \n",
      "               precision    recall  f1-score   support\n",
      "\n",
      "           0       0.97      0.93      0.95        30\n",
      "           1       0.89      0.89      0.89         9\n",
      "           2       0.88      0.88      0.88        16\n",
      "           3       0.94      0.93      0.93        67\n",
      "           4       0.97      0.98      0.97       141\n",
      "\n",
      "    accuracy                           0.95       263\n",
      "   macro avg       0.93      0.92      0.92       263\n",
      "weighted avg       0.95      0.95      0.95       263\n",
      "\n"
     ]
    }
   ],
   "source": [
    "y_pred = mlp.predict(X_test_scaled)\n",
    "print(\"\\nClassification report on test data using Multi Layer Perceptron: \\n\", classification_report(y_test, y_pred))"
   ]
  },
  {
   "cell_type": "code",
   "execution_count": null,
   "metadata": {},
   "outputs": [],
   "source": []
  },
  {
   "cell_type": "markdown",
   "metadata": {},
   "source": [
    "### Stacking Classifier"
   ]
  },
  {
   "cell_type": "code",
   "execution_count": 30,
   "metadata": {},
   "outputs": [
    {
     "name": "stderr",
     "output_type": "stream",
     "text": [
      "/home/durgesh/.local/lib/python3.8/site-packages/sklearn/linear_model/_logistic.py:762: ConvergenceWarning: lbfgs failed to converge (status=1):\n",
      "STOP: TOTAL NO. of ITERATIONS REACHED LIMIT.\n",
      "\n",
      "Increase the number of iterations (max_iter) or scale the data as shown in:\n",
      "    https://scikit-learn.org/stable/modules/preprocessing.html\n",
      "Please also refer to the documentation for alternative solver options:\n",
      "    https://scikit-learn.org/stable/modules/linear_model.html#logistic-regression\n",
      "  n_iter_i = _check_optimize_result(\n"
     ]
    },
    {
     "data": {
      "text/plain": [
       "StackingClassifier(cv=5,\n",
       "                   estimators=[('gba',\n",
       "                                GradientBoostingClassifier(random_state=31)),\n",
       "                               ('svc',\n",
       "                                SVC(class_weight='balanced', random_state=9)),\n",
       "                               ('naive_bayes', GaussianNB())],\n",
       "                   final_estimator=LogisticRegression(class_weight='balanced'),\n",
       "                   n_jobs=4, passthrough=True)"
      ]
     },
     "execution_count": 30,
     "metadata": {},
     "output_type": "execute_result"
    }
   ],
   "source": [
    "base_estimators = [\n",
    "    (\"gba\",gradient),\n",
    "    (\"svc\",svc),\n",
    "    (\"naive_bayes\",gaussian_nb)\n",
    "]\n",
    "\n",
    "logistic = LogisticRegression(class_weight='balanced')\n",
    "\n",
    "stacking = StackingClassifier(estimators = base_estimators,final_estimator= logistic, cv=5, passthrough=True, n_jobs=4)\n",
    "stacking.fit(X_train_scaled, y_train)"
   ]
  },
  {
   "cell_type": "code",
   "execution_count": 31,
   "metadata": {},
   "outputs": [
    {
     "data": {
      "text/plain": [
       "0.9885931558935361"
      ]
     },
     "execution_count": 31,
     "metadata": {},
     "output_type": "execute_result"
    }
   ],
   "source": [
    "y_pred = stacking.predict(X_test_scaled)\n",
    "accuracy_score(y_test, y_pred)"
   ]
  },
  {
   "cell_type": "code",
   "execution_count": 32,
   "metadata": {},
   "outputs": [
    {
     "data": {
      "image/png": "[encoded data removed]",
      "text/plain": [
       "<Figure size 432x288 with 2 Axes>"
      ]
     },
     "metadata": {
      "needs_background": "light"
     },
     "output_type": "display_data"
    }
   ],
   "source": [
    "sns.heatmap(confusion_matrix(y_test, y_pred), annot=True, cmap=\"YlGnBu\")\n",
    "plt.savefig(\"StackingClassifier.jpg\")"
   ]
  },
  {
   "cell_type": "code",
   "execution_count": 33,
   "metadata": {},
   "outputs": [
    {
     "name": "stdout",
     "output_type": "stream",
     "text": [
      "\n",
      "Classification report on test data using Stacking Classifier: \n",
      "               precision    recall  f1-score   support\n",
      "\n",
      "           0       1.00      1.00      1.00        30\n",
      "           1       0.90      1.00      0.95         9\n",
      "           2       1.00      0.94      0.97        16\n",
      "           3       0.98      0.97      0.98        67\n",
      "           4       0.99      1.00      1.00       141\n",
      "\n",
      "    accuracy                           0.99       263\n",
      "   macro avg       0.98      0.98      0.98       263\n",
      "weighted avg       0.99      0.99      0.99       263\n",
      "\n"
     ]
    }
   ],
   "source": [
    "y_pred = stacking.predict(X_test_scaled)\n",
    "print(\"\\nClassification report on test data using Stacking Classifier: \\n\", classification_report(y_test, y_pred))"
   ]
  },
  {
   "cell_type": "code",
   "execution_count": null,
   "metadata": {},
   "outputs": [],
   "source": []
  },
  {
   "cell_type": "markdown",
   "metadata": {},
   "source": [
    "### Preparing for Auto Encoders"
   ]
  },
  {
   "cell_type": "code",
   "execution_count": 53,
   "metadata": {},
   "outputs": [],
   "source": [
    "with open(\"MFCC_clipped.json\", 'r') as fp:\n",
    "    mfcc = json.load(fp)"
   ]
  },
  {
   "cell_type": "code",
   "execution_count": 54,
   "metadata": {},
   "outputs": [],
   "source": [
    "X = np.array(mfcc['mfcc'])\n",
    "y = np.array(mfcc['type'])\n",
    "\n",
    "y = y_encoder.transform(y)"
   ]
  },
  {
   "cell_type": "code",
   "execution_count": 55,
   "metadata": {},
   "outputs": [],
   "source": [
    "X_train, X_test, y_train, y_test = train_test_split(X, y, test_size= 0.2, stratify= y)\n",
    "X_train, X_validate, y_train, y_validate = train_test_split(X_train, y_train, test_size= 0.2, stratify= y_train)"
   ]
  },
  {
   "cell_type": "code",
   "execution_count": 56,
   "metadata": {},
   "outputs": [],
   "source": [
    "obs = list(pd.DataFrame(y_train).value_counts().sort_index())\n",
    "\n",
    "weights = []\n",
    "for i in range(0, 5):\n",
    "    weights.append(sum(obs)/obs[i])\n",
    "\n",
    "class_weight = {\n",
    "    0 : weights[0],\n",
    "    1 : weights[1],\n",
    "    2 : weights[2],\n",
    "    3 : weights[3],\n",
    "    4 : weights[4]\n",
    "}"
   ]
  },
  {
   "cell_type": "code",
   "execution_count": null,
   "metadata": {},
   "outputs": [],
   "source": []
  },
  {
   "cell_type": "markdown",
   "metadata": {},
   "source": [
    "### Building Auto Encoder"
   ]
  },
  {
   "cell_type": "code",
   "execution_count": 57,
   "metadata": {},
   "outputs": [],
   "source": [
    "class Autoencoder:\n",
    "    \n",
    "    def __init__(self, input_shape, conv_filters, conv_kernels, conv_strides, latent_space_dim):\n",
    "        self.input_shape = input_shape\n",
    "        self.conv_filters = conv_filters\n",
    "        self.conv_kernels = conv_kernels\n",
    "        self.conv_strides = conv_strides\n",
    "        self.latent_space_dim = latent_space_dim\n",
    "        \n",
    "        self.encoder = None\n",
    "        self.decoder = None\n",
    "        self.model = None\n",
    "        \n",
    "        self._num_conv_layers = len(conv_filters)\n",
    "        self._shape_before_bottleneck = None\n",
    "        self._model_input = None\n",
    "        \n",
    "        self._build()\n",
    "        \n",
    "    \n",
    "    def summary(self):\n",
    "        self.encoder.summary()\n",
    "        self.decoder.summary()\n",
    "        self.model.summary()\n",
    "        \n",
    "    \n",
    "    def compile(self, learning_rate=0.0001):\n",
    "        optimiser = keras.optimizers.Adam(learning_rate=learning_rate)\n",
    "        mse_loss = keras.losses.MeanSquaredError()\n",
    "        self.model.compile(optimizer=optimiser, loss = mse_loss)\n",
    "        \n",
    "    \n",
    "    def train(self, x_train, batch_size, num_epochs):\n",
    "        self.model.fit(x_train, x_train, batch_size=batch_size, epochs= num_epochs, shuffle=True)\n",
    "        \n",
    "    \n",
    "    def _build(self):\n",
    "        self._build_encoder()\n",
    "        self._build_decoder()\n",
    "        self._build_autoencoder()\n",
    "        \n",
    "    \n",
    "    def _build_autoencoder(self):\n",
    "        model_input = self._model_input\n",
    "        model_output = self.decoder(self.encoder(model_input))\n",
    "        self.model = keras.Model(model_input, model_output, name=\"autoencoder\")\n",
    "        \n",
    "    \n",
    "    def _build_decoder(self):\n",
    "        decoder_input = self._add_decoder_input()\n",
    "        dense_layer = self._add_dense_layer(decoder_input)\n",
    "        reshape_layer = self._add_reshape_layer(dense_layer)\n",
    "        conv_transpose_layers = self._add_conv_transpose_layers(reshape_layer)\n",
    "        decoder_output = self._add_decoder_output(conv_transpose_layers)\n",
    "        self.decoder = keras.Model(decoder_input, decoder_output, name='decoder')\n",
    "        \n",
    "    \n",
    "    def _add_decoder_input(self):\n",
    "        return keras.layers.Input(shape=self.latent_space_dim, name=\"decoder_input\")\n",
    "    \n",
    "    \n",
    "    def _add_dense_layer(self, decoder_input):\n",
    "        num_neurons = np.prod(self._shape_before_bottleneck)\n",
    "        dense_layer = keras.layers.Dense(num_neurons, name=\"decoder_dense\")(decoder_input)\n",
    "        return dense_layer\n",
    "    \n",
    "    \n",
    "    def _add_reshape_layer(self, dense_layer):\n",
    "        return keras.layers.Reshape(self._shape_before_bottleneck)(dense_layer)\n",
    "    \n",
    "    \n",
    "    def _add_conv_transpose_layers(self, x):\n",
    "        ## loop through all the conv layers in reverse order and stop at the first layer\n",
    "        for layer_index in reversed(range(1, self._num_conv_layers)):\n",
    "            x = self._add_conv_transpose_layer(layer_index, x)\n",
    "        return x\n",
    "    \n",
    "    \n",
    "    def _add_conv_transpose_layer(self, layer_index, x):\n",
    "        layer_num = self._num_conv_layers - layer_index\n",
    "        conv_transpose_layer = keras.layers.Conv2DTranspose(filters = self.conv_filters[layer_index],\n",
    "                                                           kernel_size = self.conv_kernels[layer_index],\n",
    "                                                           strides = self.conv_strides[layer_index],\n",
    "                                                           padding=\"same\",\n",
    "                                                           name=f\"decoder_conv_transpose_layer_{layer_num}\")\n",
    "        x = conv_transpose_layer(x)\n",
    "        x = keras.layers.ReLU(name=f\"decoder_relu_{layer_num}\")(x)\n",
    "        x = keras.layers.BatchNormalization(name=f\"decoder_bn_{layer_num}\")(x)\n",
    "        return x\n",
    "    \n",
    "    \n",
    "    def _add_decoder_output(self, x):\n",
    "        conv_transpose_layer = keras.layers.Conv2DTranspose(\n",
    "        filters = 1,\n",
    "        kernel_size = self.conv_kernels[0],\n",
    "        strides = self.conv_strides[0],\n",
    "        padding=\"same\",\n",
    "        name=f\"decoder_conv_transpose_layer_{self._num_conv_layers}\")\n",
    "        x = conv_transpose_layer(x)\n",
    "        output_layer = keras.layers.Activation(\"sigmoid\", name=\"sigmoid_layer\")(x)\n",
    "        return output_layer\n",
    "    \n",
    "    \n",
    "    def _build_encoder(self):\n",
    "        encoder_input = self._add_encoder_input()\n",
    "        conv_layers = self._add_conv_layers(encoder_input)\n",
    "        bottleneck = self._add_bottleneck(conv_layers)\n",
    "        self._model_input = encoder_input\n",
    "        self.encoder = keras.Model(encoder_input, bottleneck, name=\"encoder\")\n",
    "        \n",
    "        \n",
    "    def _add_encoder_input(self):\n",
    "        return keras.layers.Input(shape=self.input_shape, name=\"encoder_input\")\n",
    "    \n",
    "    \n",
    "    def _add_conv_layers(self, encoder_input):\n",
    "        x = encoder_input\n",
    "        for layer_index in range(self._num_conv_layers):\n",
    "            x = self._add_conv_layer(layer_index, x)\n",
    "        return x\n",
    "    \n",
    "    \n",
    "    def _add_conv_layer(self, layer_index, x):\n",
    "        layer_number = layer_index + 1\n",
    "        conv_layer = keras.layers.Conv2D(filters=self.conv_filters[layer_index],\n",
    "                                        kernel_size=self.conv_kernels[layer_index],\n",
    "                                        strides=self.conv_strides[layer_index],\n",
    "                                        padding=\"same\",\n",
    "                                        name=f\"encoder_conv_layer_{layer_number}\")\n",
    "        x = conv_layer(x)\n",
    "        x = keras.layers.ReLU(name=f\"encoder_relu_{layer_number}\")(x)\n",
    "        x = keras.layers.BatchNormalization(name=f\"encoder_bn_{layer_number}\")(x)\n",
    "        return x\n",
    "    \n",
    "    \n",
    "    def _add_bottleneck(self, x):\n",
    "        self._shape_before_bottleneck = keras.backend.int_shape(x)[1:]\n",
    "        x = keras.layers.Flatten()(x)\n",
    "        x = keras.layers.Dense(self.latent_space_dim, name=\"encoder_output\")(x)\n",
    "        return x\n"
   ]
  },
  {
   "cell_type": "code",
   "execution_count": 58,
   "metadata": {},
   "outputs": [],
   "source": [
    "autoencoder = Autoencoder(input_shape=(130,30,1),\n",
    "                         conv_filters=(32, 64, 64, 64, 64),\n",
    "                         conv_kernels=(3,5,5,5, 5),\n",
    "                         conv_strides=(1,2,1, 1, 1),\n",
    "                         latent_space_dim=60)"
   ]
  },
  {
   "cell_type": "code",
   "execution_count": 59,
   "metadata": {},
   "outputs": [
    {
     "name": "stdout",
     "output_type": "stream",
     "text": [
      "Model: \"encoder\"\n",
      "_________________________________________________________________\n",
      "Layer (type)                 Output Shape              Param #   \n",
      "=================================================================\n",
      "encoder_input (InputLayer)   [(None, 130, 30, 1)]      0         \n",
      "_________________________________________________________________\n",
      "encoder_conv_layer_1 (Conv2D (None, 130, 30, 32)       320       \n",
      "_________________________________________________________________\n",
      "encoder_relu_1 (ReLU)        (None, 130, 30, 32)       0         \n",
      "_________________________________________________________________\n",
      "encoder_bn_1 (BatchNormaliza (None, 130, 30, 32)       128       \n",
      "_________________________________________________________________\n",
      "encoder_conv_layer_2 (Conv2D (None, 65, 15, 64)        51264     \n",
      "_________________________________________________________________\n",
      "encoder_relu_2 (ReLU)        (None, 65, 15, 64)        0         \n",
      "_________________________________________________________________\n",
      "encoder_bn_2 (BatchNormaliza (None, 65, 15, 64)        256       \n",
      "_________________________________________________________________\n",
      "encoder_conv_layer_3 (Conv2D (None, 65, 15, 64)        102464    \n",
      "_________________________________________________________________\n",
      "encoder_relu_3 (ReLU)        (None, 65, 15, 64)        0         \n",
      "_________________________________________________________________\n",
      "encoder_bn_3 (BatchNormaliza (None, 65, 15, 64)        256       \n",
      "_________________________________________________________________\n",
      "encoder_conv_layer_4 (Conv2D (None, 65, 15, 64)        102464    \n",
      "_________________________________________________________________\n",
      "encoder_relu_4 (ReLU)        (None, 65, 15, 64)        0         \n",
      "_________________________________________________________________\n",
      "encoder_bn_4 (BatchNormaliza (None, 65, 15, 64)        256       \n",
      "_________________________________________________________________\n",
      "encoder_conv_layer_5 (Conv2D (None, 65, 15, 64)        102464    \n",
      "_________________________________________________________________\n",
      "encoder_relu_5 (ReLU)        (None, 65, 15, 64)        0         \n",
      "_________________________________________________________________\n",
      "encoder_bn_5 (BatchNormaliza (None, 65, 15, 64)        256       \n",
      "_________________________________________________________________\n",
      "flatten_1 (Flatten)          (None, 62400)             0         \n",
      "_________________________________________________________________\n",
      "encoder_output (Dense)       (None, 60)                3744060   \n",
      "=================================================================\n",
      "Total params: 4,104,188\n",
      "Trainable params: 4,103,612\n",
      "Non-trainable params: 576\n",
      "_________________________________________________________________\n",
      "Model: \"decoder\"\n",
      "_________________________________________________________________\n",
      "Layer (type)                 Output Shape              Param #   \n",
      "=================================================================\n",
      "decoder_input (InputLayer)   [(None, 60)]              0         \n",
      "_________________________________________________________________\n",
      "decoder_dense (Dense)        (None, 62400)             3806400   \n",
      "_________________________________________________________________\n",
      "reshape_1 (Reshape)          (None, 65, 15, 64)        0         \n",
      "_________________________________________________________________\n",
      "decoder_conv_transpose_layer (None, 65, 15, 64)        102464    \n",
      "_________________________________________________________________\n",
      "decoder_relu_1 (ReLU)        (None, 65, 15, 64)        0         \n",
      "_________________________________________________________________\n",
      "decoder_bn_1 (BatchNormaliza (None, 65, 15, 64)        256       \n",
      "_________________________________________________________________\n",
      "decoder_conv_transpose_layer (None, 65, 15, 64)        102464    \n",
      "_________________________________________________________________\n",
      "decoder_relu_2 (ReLU)        (None, 65, 15, 64)        0         \n",
      "_________________________________________________________________\n",
      "decoder_bn_2 (BatchNormaliza (None, 65, 15, 64)        256       \n",
      "_________________________________________________________________\n",
      "decoder_conv_transpose_layer (None, 65, 15, 64)        102464    \n",
      "_________________________________________________________________\n",
      "decoder_relu_3 (ReLU)        (None, 65, 15, 64)        0         \n",
      "_________________________________________________________________\n",
      "decoder_bn_3 (BatchNormaliza (None, 65, 15, 64)        256       \n",
      "_________________________________________________________________\n",
      "decoder_conv_transpose_layer (None, 130, 30, 64)       102464    \n",
      "_________________________________________________________________\n",
      "decoder_relu_4 (ReLU)        (None, 130, 30, 64)       0         \n",
      "_________________________________________________________________\n",
      "decoder_bn_4 (BatchNormaliza (None, 130, 30, 64)       256       \n",
      "_________________________________________________________________\n",
      "decoder_conv_transpose_layer (None, 130, 30, 1)        577       \n",
      "_________________________________________________________________\n",
      "sigmoid_layer (Activation)   (None, 130, 30, 1)        0         \n",
      "=================================================================\n",
      "Total params: 4,217,857\n",
      "Trainable params: 4,217,345\n",
      "Non-trainable params: 512\n",
      "_________________________________________________________________\n",
      "Model: \"autoencoder\"\n",
      "_________________________________________________________________\n",
      "Layer (type)                 Output Shape              Param #   \n",
      "=================================================================\n",
      "encoder_input (InputLayer)   [(None, 130, 30, 1)]      0         \n",
      "_________________________________________________________________\n",
      "encoder (Functional)         (None, 60)                4104188   \n",
      "_________________________________________________________________\n",
      "decoder (Functional)         (None, 130, 30, 1)        4217857   \n",
      "=================================================================\n",
      "Total params: 8,322,045\n",
      "Trainable params: 8,320,957\n",
      "Non-trainable params: 1,088\n",
      "_________________________________________________________________\n"
     ]
    }
   ],
   "source": [
    "autoencoder.summary()"
   ]
  },
  {
   "cell_type": "code",
   "execution_count": 60,
   "metadata": {},
   "outputs": [],
   "source": [
    "autoencoder.compile(0.01)"
   ]
  },
  {
   "cell_type": "code",
   "execution_count": 61,
   "metadata": {},
   "outputs": [],
   "source": [
    "X_train_cnn = X_train[..., np.newaxis]\n",
    "X_validate_cnn = X_validate[..., np.newaxis]\n",
    "X_test_cnn = X_test[..., np.newaxis]"
   ]
  },
  {
   "cell_type": "code",
   "execution_count": 62,
   "metadata": {},
   "outputs": [
    {
     "name": "stdout",
     "output_type": "stream",
     "text": [
      "Epoch 1/100\n",
      " 2/21 [=>............................] - ETA: 1s - loss: 8395.3008WARNING:tensorflow:Callbacks method `on_train_batch_end` is slow compared to the batch time (batch time: 0.0305s vs `on_train_batch_end` time: 0.0469s). Check your callbacks.\n",
      "21/21 [==============================] - 2s 76ms/step - loss: 8481.1387\n",
      "Epoch 2/100\n",
      "21/21 [==============================] - 2s 76ms/step - loss: 8478.8477\n",
      "Epoch 3/100\n",
      "21/21 [==============================] - 2s 75ms/step - loss: 8478.8467\n",
      "Epoch 4/100\n",
      "21/21 [==============================] - 2s 75ms/step - loss: 8478.8467\n",
      "Epoch 5/100\n",
      "21/21 [==============================] - 2s 75ms/step - loss: 8478.8467\n",
      "Epoch 6/100\n",
      "21/21 [==============================] - 2s 77ms/step - loss: 8478.8369\n",
      "Epoch 7/100\n",
      "21/21 [==============================] - 2s 76ms/step - loss: 8478.8193\n",
      "Epoch 8/100\n",
      "21/21 [==============================] - 2s 76ms/step - loss: 8478.7656\n",
      "Epoch 9/100\n",
      "21/21 [==============================] - 2s 77ms/step - loss: 8478.6992\n",
      "Epoch 10/100\n",
      "21/21 [==============================] - 2s 76ms/step - loss: 8478.6582\n",
      "Epoch 11/100\n",
      "21/21 [==============================] - 2s 75ms/step - loss: 8478.6475\n",
      "Epoch 12/100\n",
      "21/21 [==============================] - 2s 76ms/step - loss: 8478.6377\n",
      "Epoch 13/100\n",
      "21/21 [==============================] - 2s 79ms/step - loss: 8478.2090\n",
      "Epoch 14/100\n",
      "21/21 [==============================] - 2s 79ms/step - loss: 8478.0518\n",
      "Epoch 15/100\n",
      "21/21 [==============================] - 2s 77ms/step - loss: 8478.0234\n",
      "Epoch 16/100\n",
      "21/21 [==============================] - 2s 76ms/step - loss: 8477.9678\n",
      "Epoch 17/100\n",
      "21/21 [==============================] - 2s 79ms/step - loss: 8477.9531\n",
      "Epoch 18/100\n",
      "21/21 [==============================] - 2s 81ms/step - loss: 8478.0908\n",
      "Epoch 19/100\n",
      "21/21 [==============================] - 2s 75ms/step - loss: 8477.8730\n",
      "Epoch 20/100\n",
      "21/21 [==============================] - 2s 77ms/step - loss: 8477.8789\n",
      "Epoch 21/100\n",
      "21/21 [==============================] - 2s 76ms/step - loss: 8477.8682\n",
      "Epoch 22/100\n",
      "21/21 [==============================] - 2s 80ms/step - loss: 8477.8154\n",
      "Epoch 23/100\n",
      "21/21 [==============================] - 2s 76ms/step - loss: 8477.8955\n",
      "Epoch 24/100\n",
      "21/21 [==============================] - 2s 76ms/step - loss: 8477.8848\n",
      "Epoch 25/100\n",
      "21/21 [==============================] - 2s 78ms/step - loss: 8477.8779\n",
      "Epoch 26/100\n",
      "21/21 [==============================] - 2s 81ms/step - loss: 8477.9854\n",
      "Epoch 27/100\n",
      "21/21 [==============================] - 2s 79ms/step - loss: 8478.1484\n",
      "Epoch 28/100\n",
      "21/21 [==============================] - 2s 79ms/step - loss: 8477.9766\n",
      "Epoch 29/100\n",
      "21/21 [==============================] - 2s 77ms/step - loss: 8477.9668\n",
      "Epoch 30/100\n",
      "21/21 [==============================] - 2s 77ms/step - loss: 8477.9150\n",
      "Epoch 31/100\n",
      "21/21 [==============================] - 2s 79ms/step - loss: 8477.9014\n",
      "Epoch 32/100\n",
      "21/21 [==============================] - 2s 77ms/step - loss: 8477.8818\n",
      "Epoch 33/100\n",
      "21/21 [==============================] - 2s 76ms/step - loss: 8477.8740\n",
      "Epoch 34/100\n",
      "21/21 [==============================] - 2s 79ms/step - loss: 8477.8779\n",
      "Epoch 35/100\n",
      "21/21 [==============================] - 2s 77ms/step - loss: 8477.8848\n",
      "Epoch 36/100\n",
      "21/21 [==============================] - 2s 76ms/step - loss: 8477.8760\n",
      "Epoch 37/100\n",
      "21/21 [==============================] - 2s 77ms/step - loss: 8477.8535\n",
      "Epoch 38/100\n",
      "21/21 [==============================] - 2s 78ms/step - loss: 8477.8408\n",
      "Epoch 39/100\n",
      "21/21 [==============================] - 2s 81ms/step - loss: 8477.8232\n",
      "Epoch 40/100\n",
      "21/21 [==============================] - 2s 79ms/step - loss: 8477.8809\n",
      "Epoch 41/100\n",
      "21/21 [==============================] - 2s 79ms/step - loss: 8477.8975\n",
      "Epoch 42/100\n",
      "21/21 [==============================] - 2s 80ms/step - loss: 8477.8975\n",
      "Epoch 43/100\n",
      "21/21 [==============================] - 2s 80ms/step - loss: 8477.8574\n",
      "Epoch 44/100\n",
      "21/21 [==============================] - 2s 78ms/step - loss: 8477.8291\n",
      "Epoch 45/100\n",
      "21/21 [==============================] - 2s 77ms/step - loss: 8477.8252\n",
      "Epoch 46/100\n",
      "21/21 [==============================] - 2s 78ms/step - loss: 8477.8584\n",
      "Epoch 47/100\n",
      "21/21 [==============================] - 2s 79ms/step - loss: 8477.8730\n",
      "Epoch 48/100\n",
      "21/21 [==============================] - 2s 77ms/step - loss: 8477.8633\n",
      "Epoch 49/100\n",
      "21/21 [==============================] - 2s 77ms/step - loss: 8477.8086\n",
      "Epoch 50/100\n",
      "21/21 [==============================] - 2s 78ms/step - loss: 8477.8252\n",
      "Epoch 51/100\n",
      "21/21 [==============================] - 2s 77ms/step - loss: 8477.8809\n",
      "Epoch 52/100\n",
      "21/21 [==============================] - 2s 78ms/step - loss: 8477.9482\n",
      "Epoch 53/100\n",
      "21/21 [==============================] - 2s 80ms/step - loss: 8477.8506\n",
      "Epoch 54/100\n",
      "21/21 [==============================] - 2s 80ms/step - loss: 8477.8115\n",
      "Epoch 55/100\n",
      "21/21 [==============================] - 2s 82ms/step - loss: 8477.8203\n",
      "Epoch 56/100\n",
      "21/21 [==============================] - 2s 80ms/step - loss: 8477.8125\n",
      "Epoch 57/100\n",
      "21/21 [==============================] - 2s 77ms/step - loss: 8477.8066\n",
      "Epoch 58/100\n",
      "21/21 [==============================] - 2s 77ms/step - loss: 8477.9395\n",
      "Epoch 59/100\n",
      "21/21 [==============================] - 2s 78ms/step - loss: 8477.8838\n",
      "Epoch 60/100\n",
      "21/21 [==============================] - 2s 83ms/step - loss: 8477.8193\n",
      "Epoch 61/100\n",
      "21/21 [==============================] - 2s 78ms/step - loss: 8477.8301\n",
      "Epoch 62/100\n",
      "21/21 [==============================] - 2s 77ms/step - loss: 8477.8291\n",
      "Epoch 63/100\n",
      "21/21 [==============================] - 2s 77ms/step - loss: 8477.8105\n",
      "Epoch 64/100\n",
      "21/21 [==============================] - 2s 77ms/step - loss: 8477.8311\n",
      "Epoch 65/100\n",
      "21/21 [==============================] - 2s 77ms/step - loss: 8477.8721\n",
      "Epoch 66/100\n",
      "21/21 [==============================] - 2s 80ms/step - loss: 8477.8691\n",
      "Epoch 67/100\n",
      "21/21 [==============================] - 2s 81ms/step - loss: 8477.8594\n",
      "Epoch 68/100\n",
      "21/21 [==============================] - 2s 77ms/step - loss: 8477.8574\n",
      "Epoch 69/100\n",
      "19/21 [==========================>...] - ETA: 0s - loss: 8434.3809"
     ]
    },
    {
     "ename": "KeyboardInterrupt",
     "evalue": "",
     "output_type": "error",
     "traceback": [
      "\u001b[0;31m---------------------------------------------------------------------------\u001b[0m",
      "\u001b[0;31mKeyboardInterrupt\u001b[0m                         Traceback (most recent call last)",
      "\u001b[0;32m<ipython-input-62-415b5f1d84ac>\u001b[0m in \u001b[0;36m<module>\u001b[0;34m\u001b[0m\n\u001b[0;32m----> 1\u001b[0;31m \u001b[0mautoencoder\u001b[0m\u001b[0;34m.\u001b[0m\u001b[0mtrain\u001b[0m\u001b[0;34m(\u001b[0m\u001b[0mX_train_cnn\u001b[0m\u001b[0;34m,\u001b[0m \u001b[0;36m32\u001b[0m\u001b[0;34m,\u001b[0m \u001b[0;36m100\u001b[0m\u001b[0;34m)\u001b[0m\u001b[0;34m\u001b[0m\u001b[0;34m\u001b[0m\u001b[0m\n\u001b[0m",
      "\u001b[0;32m<ipython-input-57-f80acfad60d2>\u001b[0m in \u001b[0;36mtrain\u001b[0;34m(self, x_train, batch_size, num_epochs)\u001b[0m\n\u001b[1;32m     32\u001b[0m \u001b[0;34m\u001b[0m\u001b[0m\n\u001b[1;32m     33\u001b[0m     \u001b[0;32mdef\u001b[0m \u001b[0mtrain\u001b[0m\u001b[0;34m(\u001b[0m\u001b[0mself\u001b[0m\u001b[0;34m,\u001b[0m \u001b[0mx_train\u001b[0m\u001b[0;34m,\u001b[0m \u001b[0mbatch_size\u001b[0m\u001b[0;34m,\u001b[0m \u001b[0mnum_epochs\u001b[0m\u001b[0;34m)\u001b[0m\u001b[0;34m:\u001b[0m\u001b[0;34m\u001b[0m\u001b[0;34m\u001b[0m\u001b[0m\n\u001b[0;32m---> 34\u001b[0;31m         \u001b[0mself\u001b[0m\u001b[0;34m.\u001b[0m\u001b[0mmodel\u001b[0m\u001b[0;34m.\u001b[0m\u001b[0mfit\u001b[0m\u001b[0;34m(\u001b[0m\u001b[0mx_train\u001b[0m\u001b[0;34m,\u001b[0m \u001b[0mx_train\u001b[0m\u001b[0;34m,\u001b[0m \u001b[0mbatch_size\u001b[0m\u001b[0;34m=\u001b[0m\u001b[0mbatch_size\u001b[0m\u001b[0;34m,\u001b[0m \u001b[0mepochs\u001b[0m\u001b[0;34m=\u001b[0m \u001b[0mnum_epochs\u001b[0m\u001b[0;34m,\u001b[0m \u001b[0mshuffle\u001b[0m\u001b[0;34m=\u001b[0m\u001b[0;32mTrue\u001b[0m\u001b[0;34m)\u001b[0m\u001b[0;34m\u001b[0m\u001b[0;34m\u001b[0m\u001b[0m\n\u001b[0m\u001b[1;32m     35\u001b[0m \u001b[0;34m\u001b[0m\u001b[0m\n\u001b[1;32m     36\u001b[0m \u001b[0;34m\u001b[0m\u001b[0m\n",
      "\u001b[0;32m~/.local/lib/python3.8/site-packages/tensorflow/python/keras/engine/training.py\u001b[0m in \u001b[0;36m_method_wrapper\u001b[0;34m(self, *args, **kwargs)\u001b[0m\n\u001b[1;32m    106\u001b[0m   \u001b[0;32mdef\u001b[0m \u001b[0m_method_wrapper\u001b[0m\u001b[0;34m(\u001b[0m\u001b[0mself\u001b[0m\u001b[0;34m,\u001b[0m \u001b[0;34m*\u001b[0m\u001b[0margs\u001b[0m\u001b[0;34m,\u001b[0m \u001b[0;34m**\u001b[0m\u001b[0mkwargs\u001b[0m\u001b[0;34m)\u001b[0m\u001b[0;34m:\u001b[0m\u001b[0;34m\u001b[0m\u001b[0;34m\u001b[0m\u001b[0m\n\u001b[1;32m    107\u001b[0m     \u001b[0;32mif\u001b[0m \u001b[0;32mnot\u001b[0m \u001b[0mself\u001b[0m\u001b[0;34m.\u001b[0m\u001b[0m_in_multi_worker_mode\u001b[0m\u001b[0;34m(\u001b[0m\u001b[0;34m)\u001b[0m\u001b[0;34m:\u001b[0m  \u001b[0;31m# pylint: disable=protected-access\u001b[0m\u001b[0;34m\u001b[0m\u001b[0;34m\u001b[0m\u001b[0m\n\u001b[0;32m--> 108\u001b[0;31m       \u001b[0;32mreturn\u001b[0m \u001b[0mmethod\u001b[0m\u001b[0;34m(\u001b[0m\u001b[0mself\u001b[0m\u001b[0;34m,\u001b[0m \u001b[0;34m*\u001b[0m\u001b[0margs\u001b[0m\u001b[0;34m,\u001b[0m \u001b[0;34m**\u001b[0m\u001b[0mkwargs\u001b[0m\u001b[0;34m)\u001b[0m\u001b[0;34m\u001b[0m\u001b[0;34m\u001b[0m\u001b[0m\n\u001b[0m\u001b[1;32m    109\u001b[0m \u001b[0;34m\u001b[0m\u001b[0m\n\u001b[1;32m    110\u001b[0m     \u001b[0;31m# Running inside `run_distribute_coordinator` already.\u001b[0m\u001b[0;34m\u001b[0m\u001b[0;34m\u001b[0m\u001b[0;34m\u001b[0m\u001b[0m\n",
      "\u001b[0;32m~/.local/lib/python3.8/site-packages/tensorflow/python/keras/engine/training.py\u001b[0m in \u001b[0;36mfit\u001b[0;34m(self, x, y, batch_size, epochs, verbose, callbacks, validation_split, validation_data, shuffle, class_weight, sample_weight, initial_epoch, steps_per_epoch, validation_steps, validation_batch_size, validation_freq, max_queue_size, workers, use_multiprocessing)\u001b[0m\n\u001b[1;32m   1096\u001b[0m                 batch_size=batch_size):\n\u001b[1;32m   1097\u001b[0m               \u001b[0mcallbacks\u001b[0m\u001b[0;34m.\u001b[0m\u001b[0mon_train_batch_begin\u001b[0m\u001b[0;34m(\u001b[0m\u001b[0mstep\u001b[0m\u001b[0;34m)\u001b[0m\u001b[0;34m\u001b[0m\u001b[0;34m\u001b[0m\u001b[0m\n\u001b[0;32m-> 1098\u001b[0;31m               \u001b[0mtmp_logs\u001b[0m \u001b[0;34m=\u001b[0m \u001b[0mtrain_function\u001b[0m\u001b[0;34m(\u001b[0m\u001b[0miterator\u001b[0m\u001b[0;34m)\u001b[0m\u001b[0;34m\u001b[0m\u001b[0;34m\u001b[0m\u001b[0m\n\u001b[0m\u001b[1;32m   1099\u001b[0m               \u001b[0;32mif\u001b[0m \u001b[0mdata_handler\u001b[0m\u001b[0;34m.\u001b[0m\u001b[0mshould_sync\u001b[0m\u001b[0;34m:\u001b[0m\u001b[0;34m\u001b[0m\u001b[0;34m\u001b[0m\u001b[0m\n\u001b[1;32m   1100\u001b[0m                 \u001b[0mcontext\u001b[0m\u001b[0;34m.\u001b[0m\u001b[0masync_wait\u001b[0m\u001b[0;34m(\u001b[0m\u001b[0;34m)\u001b[0m\u001b[0;34m\u001b[0m\u001b[0;34m\u001b[0m\u001b[0m\n",
      "\u001b[0;32m~/.local/lib/python3.8/site-packages/tensorflow/python/eager/def_function.py\u001b[0m in \u001b[0;36m__call__\u001b[0;34m(self, *args, **kwds)\u001b[0m\n\u001b[1;32m    778\u001b[0m       \u001b[0;32melse\u001b[0m\u001b[0;34m:\u001b[0m\u001b[0;34m\u001b[0m\u001b[0;34m\u001b[0m\u001b[0m\n\u001b[1;32m    779\u001b[0m         \u001b[0mcompiler\u001b[0m \u001b[0;34m=\u001b[0m \u001b[0;34m\"nonXla\"\u001b[0m\u001b[0;34m\u001b[0m\u001b[0;34m\u001b[0m\u001b[0m\n\u001b[0;32m--> 780\u001b[0;31m         \u001b[0mresult\u001b[0m \u001b[0;34m=\u001b[0m \u001b[0mself\u001b[0m\u001b[0;34m.\u001b[0m\u001b[0m_call\u001b[0m\u001b[0;34m(\u001b[0m\u001b[0;34m*\u001b[0m\u001b[0margs\u001b[0m\u001b[0;34m,\u001b[0m \u001b[0;34m**\u001b[0m\u001b[0mkwds\u001b[0m\u001b[0;34m)\u001b[0m\u001b[0;34m\u001b[0m\u001b[0;34m\u001b[0m\u001b[0m\n\u001b[0m\u001b[1;32m    781\u001b[0m \u001b[0;34m\u001b[0m\u001b[0m\n\u001b[1;32m    782\u001b[0m       \u001b[0mnew_tracing_count\u001b[0m \u001b[0;34m=\u001b[0m \u001b[0mself\u001b[0m\u001b[0;34m.\u001b[0m\u001b[0m_get_tracing_count\u001b[0m\u001b[0;34m(\u001b[0m\u001b[0;34m)\u001b[0m\u001b[0;34m\u001b[0m\u001b[0;34m\u001b[0m\u001b[0m\n",
      "\u001b[0;32m~/.local/lib/python3.8/site-packages/tensorflow/python/eager/def_function.py\u001b[0m in \u001b[0;36m_call\u001b[0;34m(self, *args, **kwds)\u001b[0m\n\u001b[1;32m    805\u001b[0m       \u001b[0;31m# In this case we have created variables on the first call, so we run the\u001b[0m\u001b[0;34m\u001b[0m\u001b[0;34m\u001b[0m\u001b[0;34m\u001b[0m\u001b[0m\n\u001b[1;32m    806\u001b[0m       \u001b[0;31m# defunned version which is guaranteed to never create variables.\u001b[0m\u001b[0;34m\u001b[0m\u001b[0;34m\u001b[0m\u001b[0;34m\u001b[0m\u001b[0m\n\u001b[0;32m--> 807\u001b[0;31m       \u001b[0;32mreturn\u001b[0m \u001b[0mself\u001b[0m\u001b[0;34m.\u001b[0m\u001b[0m_stateless_fn\u001b[0m\u001b[0;34m(\u001b[0m\u001b[0;34m*\u001b[0m\u001b[0margs\u001b[0m\u001b[0;34m,\u001b[0m \u001b[0;34m**\u001b[0m\u001b[0mkwds\u001b[0m\u001b[0;34m)\u001b[0m  \u001b[0;31m# pylint: disable=not-callable\u001b[0m\u001b[0;34m\u001b[0m\u001b[0;34m\u001b[0m\u001b[0m\n\u001b[0m\u001b[1;32m    808\u001b[0m     \u001b[0;32melif\u001b[0m \u001b[0mself\u001b[0m\u001b[0;34m.\u001b[0m\u001b[0m_stateful_fn\u001b[0m \u001b[0;32mis\u001b[0m \u001b[0;32mnot\u001b[0m \u001b[0;32mNone\u001b[0m\u001b[0;34m:\u001b[0m\u001b[0;34m\u001b[0m\u001b[0;34m\u001b[0m\u001b[0m\n\u001b[1;32m    809\u001b[0m       \u001b[0;31m# Release the lock early so that multiple threads can perform the call\u001b[0m\u001b[0;34m\u001b[0m\u001b[0;34m\u001b[0m\u001b[0;34m\u001b[0m\u001b[0m\n",
      "\u001b[0;32m~/.local/lib/python3.8/site-packages/tensorflow/python/eager/function.py\u001b[0m in \u001b[0;36m__call__\u001b[0;34m(self, *args, **kwargs)\u001b[0m\n\u001b[1;32m   2827\u001b[0m     \u001b[0;32mwith\u001b[0m \u001b[0mself\u001b[0m\u001b[0;34m.\u001b[0m\u001b[0m_lock\u001b[0m\u001b[0;34m:\u001b[0m\u001b[0;34m\u001b[0m\u001b[0;34m\u001b[0m\u001b[0m\n\u001b[1;32m   2828\u001b[0m       \u001b[0mgraph_function\u001b[0m\u001b[0;34m,\u001b[0m \u001b[0margs\u001b[0m\u001b[0;34m,\u001b[0m \u001b[0mkwargs\u001b[0m \u001b[0;34m=\u001b[0m \u001b[0mself\u001b[0m\u001b[0;34m.\u001b[0m\u001b[0m_maybe_define_function\u001b[0m\u001b[0;34m(\u001b[0m\u001b[0margs\u001b[0m\u001b[0;34m,\u001b[0m \u001b[0mkwargs\u001b[0m\u001b[0;34m)\u001b[0m\u001b[0;34m\u001b[0m\u001b[0;34m\u001b[0m\u001b[0m\n\u001b[0;32m-> 2829\u001b[0;31m     \u001b[0;32mreturn\u001b[0m \u001b[0mgraph_function\u001b[0m\u001b[0;34m.\u001b[0m\u001b[0m_filtered_call\u001b[0m\u001b[0;34m(\u001b[0m\u001b[0margs\u001b[0m\u001b[0;34m,\u001b[0m \u001b[0mkwargs\u001b[0m\u001b[0;34m)\u001b[0m  \u001b[0;31m# pylint: disable=protected-access\u001b[0m\u001b[0;34m\u001b[0m\u001b[0;34m\u001b[0m\u001b[0m\n\u001b[0m\u001b[1;32m   2830\u001b[0m \u001b[0;34m\u001b[0m\u001b[0m\n\u001b[1;32m   2831\u001b[0m   \u001b[0;34m@\u001b[0m\u001b[0mproperty\u001b[0m\u001b[0;34m\u001b[0m\u001b[0;34m\u001b[0m\u001b[0m\n",
      "\u001b[0;32m~/.local/lib/python3.8/site-packages/tensorflow/python/eager/function.py\u001b[0m in \u001b[0;36m_filtered_call\u001b[0;34m(self, args, kwargs, cancellation_manager)\u001b[0m\n\u001b[1;32m   1841\u001b[0m       \u001b[0;31m`\u001b[0m\u001b[0margs\u001b[0m\u001b[0;31m`\u001b[0m \u001b[0;32mand\u001b[0m\u001b[0;31m \u001b[0m\u001b[0;31m`\u001b[0m\u001b[0mkwargs\u001b[0m\u001b[0;31m`\u001b[0m\u001b[0;34m.\u001b[0m\u001b[0;34m\u001b[0m\u001b[0;34m\u001b[0m\u001b[0m\n\u001b[1;32m   1842\u001b[0m     \"\"\"\n\u001b[0;32m-> 1843\u001b[0;31m     return self._call_flat(\n\u001b[0m\u001b[1;32m   1844\u001b[0m         [t for t in nest.flatten((args, kwargs), expand_composites=True)\n\u001b[1;32m   1845\u001b[0m          if isinstance(t, (ops.Tensor,\n",
      "\u001b[0;32m~/.local/lib/python3.8/site-packages/tensorflow/python/eager/function.py\u001b[0m in \u001b[0;36m_call_flat\u001b[0;34m(self, args, captured_inputs, cancellation_manager)\u001b[0m\n\u001b[1;32m   1921\u001b[0m         and executing_eagerly):\n\u001b[1;32m   1922\u001b[0m       \u001b[0;31m# No tape is watching; skip to running the function.\u001b[0m\u001b[0;34m\u001b[0m\u001b[0;34m\u001b[0m\u001b[0;34m\u001b[0m\u001b[0m\n\u001b[0;32m-> 1923\u001b[0;31m       return self._build_call_outputs(self._inference_function.call(\n\u001b[0m\u001b[1;32m   1924\u001b[0m           ctx, args, cancellation_manager=cancellation_manager))\n\u001b[1;32m   1925\u001b[0m     forward_backward = self._select_forward_and_backward_functions(\n",
      "\u001b[0;32m~/.local/lib/python3.8/site-packages/tensorflow/python/eager/function.py\u001b[0m in \u001b[0;36mcall\u001b[0;34m(self, ctx, args, cancellation_manager)\u001b[0m\n\u001b[1;32m    543\u001b[0m       \u001b[0;32mwith\u001b[0m \u001b[0m_InterpolateFunctionError\u001b[0m\u001b[0;34m(\u001b[0m\u001b[0mself\u001b[0m\u001b[0;34m)\u001b[0m\u001b[0;34m:\u001b[0m\u001b[0;34m\u001b[0m\u001b[0;34m\u001b[0m\u001b[0m\n\u001b[1;32m    544\u001b[0m         \u001b[0;32mif\u001b[0m \u001b[0mcancellation_manager\u001b[0m \u001b[0;32mis\u001b[0m \u001b[0;32mNone\u001b[0m\u001b[0;34m:\u001b[0m\u001b[0;34m\u001b[0m\u001b[0;34m\u001b[0m\u001b[0m\n\u001b[0;32m--> 545\u001b[0;31m           outputs = execute.execute(\n\u001b[0m\u001b[1;32m    546\u001b[0m               \u001b[0mstr\u001b[0m\u001b[0;34m(\u001b[0m\u001b[0mself\u001b[0m\u001b[0;34m.\u001b[0m\u001b[0msignature\u001b[0m\u001b[0;34m.\u001b[0m\u001b[0mname\u001b[0m\u001b[0;34m)\u001b[0m\u001b[0;34m,\u001b[0m\u001b[0;34m\u001b[0m\u001b[0;34m\u001b[0m\u001b[0m\n\u001b[1;32m    547\u001b[0m               \u001b[0mnum_outputs\u001b[0m\u001b[0;34m=\u001b[0m\u001b[0mself\u001b[0m\u001b[0;34m.\u001b[0m\u001b[0m_num_outputs\u001b[0m\u001b[0;34m,\u001b[0m\u001b[0;34m\u001b[0m\u001b[0;34m\u001b[0m\u001b[0m\n",
      "\u001b[0;32m~/.local/lib/python3.8/site-packages/tensorflow/python/eager/execute.py\u001b[0m in \u001b[0;36mquick_execute\u001b[0;34m(op_name, num_outputs, inputs, attrs, ctx, name)\u001b[0m\n\u001b[1;32m     57\u001b[0m   \u001b[0;32mtry\u001b[0m\u001b[0;34m:\u001b[0m\u001b[0;34m\u001b[0m\u001b[0;34m\u001b[0m\u001b[0m\n\u001b[1;32m     58\u001b[0m     \u001b[0mctx\u001b[0m\u001b[0;34m.\u001b[0m\u001b[0mensure_initialized\u001b[0m\u001b[0;34m(\u001b[0m\u001b[0;34m)\u001b[0m\u001b[0;34m\u001b[0m\u001b[0;34m\u001b[0m\u001b[0m\n\u001b[0;32m---> 59\u001b[0;31m     tensors = pywrap_tfe.TFE_Py_Execute(ctx._handle, device_name, op_name,\n\u001b[0m\u001b[1;32m     60\u001b[0m                                         inputs, attrs, num_outputs)\n\u001b[1;32m     61\u001b[0m   \u001b[0;32mexcept\u001b[0m \u001b[0mcore\u001b[0m\u001b[0;34m.\u001b[0m\u001b[0m_NotOkStatusException\u001b[0m \u001b[0;32mas\u001b[0m \u001b[0me\u001b[0m\u001b[0;34m:\u001b[0m\u001b[0;34m\u001b[0m\u001b[0;34m\u001b[0m\u001b[0m\n",
      "\u001b[0;31mKeyboardInterrupt\u001b[0m: "
     ]
    }
   ],
   "source": [
    "autoencoder.train(X_train_cnn, 32, 100)"
   ]
  },
  {
   "cell_type": "code",
   "execution_count": 44,
   "metadata": {},
   "outputs": [],
   "source": [
    "mfcc_features = autoencoder.encoder.predict(X)"
   ]
  },
  {
   "cell_type": "code",
   "execution_count": 45,
   "metadata": {},
   "outputs": [],
   "source": [
    "mfcc_feature_cols = []\n",
    "for i in range(60):\n",
    "    mfcc_feature_cols.append(\"Latent_space_\"+str(i))\n",
    "\n",
    "\n",
    "latent_space = pd.DataFrame(mfcc_features, columns=mfcc_feature_cols)"
   ]
  },
  {
   "cell_type": "code",
   "execution_count": null,
   "metadata": {},
   "outputs": [],
   "source": []
  },
  {
   "cell_type": "markdown",
   "metadata": {},
   "source": [
    "### Working with Latent Space"
   ]
  },
  {
   "cell_type": "code",
   "execution_count": 46,
   "metadata": {},
   "outputs": [],
   "source": [
    "X = pd.concat([latent_space, data.iloc[:,30:34]], axis=1)\n",
    "y = data['type']\n",
    "\n",
    "y = y_encoder.transform(y)"
   ]
  },
  {
   "cell_type": "code",
   "execution_count": 47,
   "metadata": {},
   "outputs": [
    {
     "name": "stdout",
     "output_type": "stream",
     "text": [
      "Train size: 839 \n",
      "Test size: 210\n"
     ]
    }
   ],
   "source": [
    "X_train, X_test, y_train, y_test = train_test_split(X, y, test_size=0.2, random_state=31, stratify=y)\n",
    "print(\"Train size:\",len(X_train), \"\\nTest size:\", len(X_test))"
   ]
  },
  {
   "cell_type": "code",
   "execution_count": 48,
   "metadata": {},
   "outputs": [],
   "source": [
    "scaler = StandardScaler()\n",
    "scaler.fit(X_train)\n",
    "X_train_scaled = scaler.transform(X_train)\n",
    "X_test_scaled = scaler.transform(X_test)"
   ]
  },
  {
   "cell_type": "code",
   "execution_count": null,
   "metadata": {},
   "outputs": [],
   "source": []
  },
  {
   "cell_type": "markdown",
   "metadata": {},
   "source": [
    "### Stacking Classifier"
   ]
  },
  {
   "cell_type": "code",
   "execution_count": 49,
   "metadata": {},
   "outputs": [
    {
     "name": "stderr",
     "output_type": "stream",
     "text": [
      "/home/durgesh/.local/lib/python3.8/site-packages/sklearn/linear_model/_logistic.py:762: ConvergenceWarning: lbfgs failed to converge (status=1):\n",
      "STOP: TOTAL NO. of ITERATIONS REACHED LIMIT.\n",
      "\n",
      "Increase the number of iterations (max_iter) or scale the data as shown in:\n",
      "    https://scikit-learn.org/stable/modules/preprocessing.html\n",
      "Please also refer to the documentation for alternative solver options:\n",
      "    https://scikit-learn.org/stable/modules/linear_model.html#logistic-regression\n",
      "  n_iter_i = _check_optimize_result(\n"
     ]
    },
    {
     "data": {
      "text/plain": [
       "StackingClassifier(cv=5,\n",
       "                   estimators=[('rf',\n",
       "                                RandomForestClassifier(class_weight='balanced',\n",
       "                                                       oob_score=True,\n",
       "                                                       random_state=31)),\n",
       "                               ('gba',\n",
       "                                GradientBoostingClassifier(random_state=31)),\n",
       "                               ('svc',\n",
       "                                SVC(class_weight='balanced', random_state=9)),\n",
       "                               ('naive_bayes', GaussianNB())],\n",
       "                   final_estimator=LogisticRegression(class_weight='balanced'),\n",
       "                   n_jobs=4, passthrough=True)"
      ]
     },
     "execution_count": 49,
     "metadata": {},
     "output_type": "execute_result"
    }
   ],
   "source": [
    "base_estimators = [\n",
    "    (\"rf\", forest),\n",
    "    (\"gba\",gradient),\n",
    "    (\"svc\",svc),\n",
    "    (\"naive_bayes\",gaussian_nb)\n",
    "]\n",
    "\n",
    "logistic = LogisticRegression(class_weight='balanced')\n",
    "\n",
    "stacking = StackingClassifier(estimators = base_estimators,final_estimator= logistic, cv=5, passthrough=True, n_jobs=4)\n",
    "stacking.fit(X_train_scaled, y_train)"
   ]
  },
  {
   "cell_type": "code",
   "execution_count": 50,
   "metadata": {},
   "outputs": [
    {
     "data": {
      "text/plain": [
       "0.5666666666666667"
      ]
     },
     "execution_count": 50,
     "metadata": {},
     "output_type": "execute_result"
    }
   ],
   "source": [
    "y_pred = stacking.predict(X_test_scaled)\n",
    "accuracy_score(y_test, y_pred)"
   ]
  },
  {
   "cell_type": "code",
   "execution_count": 51,
   "metadata": {},
   "outputs": [
    {
     "data": {
      "image/png": "[encoded data removed]",
      "text/plain": [
       "<Figure size 432x288 with 2 Axes>"
      ]
     },
     "metadata": {
      "needs_background": "light"
     },
     "output_type": "display_data"
    }
   ],
   "source": [
    "sns.heatmap(confusion_matrix(y_test, y_pred), annot=True, cmap=\"YlGnBu\")\n",
    "plt.savefig(\"StackingClassifier_with_AE.jpg\")"
   ]
  },
  {
   "cell_type": "code",
   "execution_count": 52,
   "metadata": {},
   "outputs": [
    {
     "name": "stdout",
     "output_type": "stream",
     "text": [
      "\n",
      "Classification report on test data using Stacking Classifier with AE: \n",
      "               precision    recall  f1-score   support\n",
      "\n",
      "           0       0.85      0.96      0.90        24\n",
      "           1       0.40      0.86      0.55         7\n",
      "           2       0.11      0.31      0.16        13\n",
      "           3       0.58      0.72      0.64        53\n",
      "           4       0.75      0.42      0.54       113\n",
      "\n",
      "    accuracy                           0.57       210\n",
      "   macro avg       0.54      0.65      0.56       210\n",
      "weighted avg       0.67      0.57      0.58       210\n",
      "\n"
     ]
    }
   ],
   "source": [
    "y_pred = stacking.predict(X_test_scaled)\n",
    "print(\"\\nClassification report on test data using Stacking Classifier with AE: \\n\", classification_report(y_test, y_pred))"
   ]
  },
  {
   "cell_type": "code",
   "execution_count": null,
   "metadata": {},
   "outputs": [],
   "source": []
  }
 ],
 "metadata": {
  "kernelspec": {
   "display_name": "Python 3",
   "language": "python",
   "name": "python3"
  },
  "language_info": {
   "codemirror_mode": {
    "name": "ipython",
    "version": 3
   },
   "file_extension": ".py",
   "mimetype": "text/x-python",
   "name": "python",
   "nbconvert_exporter": "python",
   "pygments_lexer": "ipython3",
   "version": "3.8.5"
  }
 },
 "nbformat": 4,
 "nbformat_minor": 4
}
