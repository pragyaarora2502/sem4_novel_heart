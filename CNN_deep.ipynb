{
 "cells": [
  {
   "cell_type": "markdown",
   "metadata": {},
   "source": [
    "### Importing required libraries"
   ]
  },
  {
   "cell_type": "code",
   "execution_count": 10,
   "metadata": {},
   "outputs": [],
   "source": [
    "import numpy as np\n",
    "import json\n",
    "import matplotlib.pyplot as plt\n",
    "import seaborn as sns\n",
    "import pandas as pd\n",
    "\n",
    "import tensorflow as tf\n",
    "from tensorflow import keras\n",
    "### Use GPU if available\n",
    "physical_devices = tf.config.experimental.list_physical_devices('GPU')\n",
    "assert len(physical_devices) > 0, \"Not enough GPU hardware devices available\"\n",
    "config = tf.config.experimental.set_memory_growth(physical_devices[0], True)\n",
    "\n",
    "from sklearn.model_selection import train_test_split\n",
    "from sklearn.metrics import confusion_matrix"
   ]
  },
  {
   "cell_type": "code",
   "execution_count": null,
   "metadata": {},
   "outputs": [],
   "source": []
  },
  {
   "cell_type": "markdown",
   "metadata": {},
   "source": [
    "### Reading JSON data"
   ]
  },
  {
   "cell_type": "code",
   "execution_count": 4,
   "metadata": {},
   "outputs": [],
   "source": [
    "with open(\"MFCC.json\", 'r') as fp:\n",
    "    mfcc = json.load(fp)"
   ]
  },
  {
   "cell_type": "code",
   "execution_count": null,
   "metadata": {},
   "outputs": [],
   "source": []
  },
  {
   "cell_type": "markdown",
   "metadata": {},
   "source": [
    "### Preparing data for DL"
   ]
  },
  {
   "cell_type": "code",
   "execution_count": 5,
   "metadata": {},
   "outputs": [],
   "source": [
    "X = np.array(mfcc['mfcc'])\n",
    "target = np.array(mfcc['type'])"
   ]
  },
  {
   "cell_type": "code",
   "execution_count": 6,
   "metadata": {},
   "outputs": [],
   "source": [
    "normal = []\n",
    "y = []\n",
    "\n",
    "mapping = {\n",
    "    'normal' : 0,\n",
    "    'murmur' : 1,\n",
    "    'artifact' : 2,\n",
    "    'extrastole' : 3,\n",
    "    'extrahls' : 4\n",
    "}\n",
    "\n",
    "for i in range(len(target)):\n",
    "    y.append(mapping[target[i]])\n",
    "    if target[i] == 'normal':\n",
    "        normal.append(0)\n",
    "    else:\n",
    "        normal.append(1)\n",
    "\n",
    "y = np.array(y)\n",
    "normal = np.array(normal)"
   ]
  },
  {
   "cell_type": "code",
   "execution_count": 7,
   "metadata": {},
   "outputs": [],
   "source": [
    "X_train, X_test, y_train, y_test = train_test_split(X, normal, test_size= 0.2, stratify= normal)\n",
    "X_train, X_validate, y_train, y_validate = train_test_split(X_train, y_train, test_size= 0.2, stratify= y_train)"
   ]
  },
  {
   "cell_type": "code",
   "execution_count": 8,
   "metadata": {},
   "outputs": [],
   "source": [
    "X_train_cnn = X_train[..., np.newaxis]\n",
    "X_validate_cnn = X_validate[..., np.newaxis]\n",
    "X_test_cnn = X_test[..., np.newaxis]"
   ]
  },
  {
   "cell_type": "code",
   "execution_count": 22,
   "metadata": {},
   "outputs": [
    {
     "data": {
      "text/plain": [
       "{0: 1.863888888888889, 1: 2.157556270096463}"
      ]
     },
     "execution_count": 22,
     "metadata": {},
     "output_type": "execute_result"
    }
   ],
   "source": [
    "obs = list(pd.DataFrame(y_train).value_counts().sort_index())\n",
    "lent = len(obs)\n",
    "weights = []\n",
    "for i in range(0, lent):\n",
    "    weights.append(sum(obs)/obs[i])\n",
    "    \n",
    "#sum_weights = sum(weights)\n",
    "#for i in range(5):\n",
    "#    weights[i] = weights[i]/sum_weights\n",
    "\n",
    "class_weight = {}\n",
    "for i in range(lent):\n",
    "    class_weight[i] = weights[i]\n",
    "class_weight"
   ]
  },
  {
   "cell_type": "markdown",
   "metadata": {},
   "source": [
    "### Building the model for binary classification"
   ]
  },
  {
   "cell_type": "code",
   "execution_count": 42,
   "metadata": {},
   "outputs": [],
   "source": [
    "model = keras.Sequential()\n",
    "\n",
    "model.add(keras.layers.Conv2D(16, (3,1), activation='relu', padding='same', input_shape=(X_train_cnn.shape[1], X_train_cnn.shape[2], X_train_cnn.shape[3])))\n",
    "model.add(keras.layers.MaxPool2D((2,1), strides=(2, 1), padding='same'))\n",
    "model.add(keras.layers.BatchNormalization())\n",
    "\n",
    "model.add(keras.layers.Flatten())\n",
    "model.add(keras.layers.Dense(16, activation='relu'))\n",
    "model.add(keras.layers.Dropout(0.5))\n",
    "\n",
    "model.add(keras.layers.Dense(1, activation='sigmoid'))"
   ]
  },
  {
   "cell_type": "code",
   "execution_count": 43,
   "metadata": {},
   "outputs": [
    {
     "name": "stdout",
     "output_type": "stream",
     "text": [
      "Model: \"sequential_3\"\n",
      "_________________________________________________________________\n",
      "Layer (type)                 Output Shape              Param #   \n",
      "=================================================================\n",
      "conv2d_6 (Conv2D)            (None, 130, 30, 16)       64        \n",
      "_________________________________________________________________\n",
      "max_pooling2d_6 (MaxPooling2 (None, 65, 30, 16)        0         \n",
      "_________________________________________________________________\n",
      "batch_normalization_6 (Batch (None, 65, 30, 16)        64        \n",
      "_________________________________________________________________\n",
      "flatten_3 (Flatten)          (None, 31200)             0         \n",
      "_________________________________________________________________\n",
      "dense_6 (Dense)              (None, 16)                499216    \n",
      "_________________________________________________________________\n",
      "dropout_3 (Dropout)          (None, 16)                0         \n",
      "_________________________________________________________________\n",
      "dense_7 (Dense)              (None, 1)                 17        \n",
      "=================================================================\n",
      "Total params: 499,361\n",
      "Trainable params: 499,329\n",
      "Non-trainable params: 32\n",
      "_________________________________________________________________\n"
     ]
    }
   ],
   "source": [
    "optimizer = keras.optimizers.Adam(learning_rate=0.001)\n",
    "model.compile(optimizer= optimizer, loss='sparse_categorical_crossentropy', metrics=['accuracy'])\n",
    "\n",
    "model.summary()"
   ]
  },
  {
   "cell_type": "code",
   "execution_count": 44,
   "metadata": {},
   "outputs": [
    {
     "name": "stdout",
     "output_type": "stream",
     "text": [
      "Epoch 1/30\n",
      "21/21 [==============================] - 0s 9ms/step - loss: nan - accuracy: 0.5261 - val_loss: nan - val_accuracy: 0.5357\n",
      "Epoch 2/30\n",
      "21/21 [==============================] - 0s 5ms/step - loss: nan - accuracy: 0.5365 - val_loss: nan - val_accuracy: 0.5357\n",
      "Epoch 3/30\n",
      "21/21 [==============================] - 0s 5ms/step - loss: nan - accuracy: 0.5365 - val_loss: nan - val_accuracy: 0.5357\n",
      "Epoch 4/30\n",
      "21/21 [==============================] - 0s 5ms/step - loss: nan - accuracy: 0.5365 - val_loss: nan - val_accuracy: 0.5357\n",
      "Epoch 5/30\n",
      "21/21 [==============================] - 0s 6ms/step - loss: nan - accuracy: 0.5365 - val_loss: nan - val_accuracy: 0.5357\n",
      "Epoch 6/30\n",
      "21/21 [==============================] - 0s 6ms/step - loss: nan - accuracy: 0.5365 - val_loss: nan - val_accuracy: 0.5357\n",
      "Epoch 7/30\n",
      "21/21 [==============================] - 0s 5ms/step - loss: nan - accuracy: 0.5365 - val_loss: nan - val_accuracy: 0.5357\n",
      "Epoch 8/30\n",
      "21/21 [==============================] - 0s 5ms/step - loss: nan - accuracy: 0.5365 - val_loss: nan - val_accuracy: 0.5357\n",
      "Epoch 9/30\n",
      "21/21 [==============================] - 0s 5ms/step - loss: nan - accuracy: 0.5365 - val_loss: nan - val_accuracy: 0.5357\n",
      "Epoch 10/30\n",
      "21/21 [==============================] - 0s 5ms/step - loss: nan - accuracy: 0.5365 - val_loss: nan - val_accuracy: 0.5357\n",
      "Epoch 11/30\n",
      "21/21 [==============================] - 0s 5ms/step - loss: nan - accuracy: 0.5365 - val_loss: nan - val_accuracy: 0.5357\n",
      "Epoch 12/30\n",
      "21/21 [==============================] - 0s 5ms/step - loss: nan - accuracy: 0.5365 - val_loss: nan - val_accuracy: 0.5357\n",
      "Epoch 13/30\n",
      "21/21 [==============================] - 0s 5ms/step - loss: nan - accuracy: 0.5365 - val_loss: nan - val_accuracy: 0.5357\n",
      "Epoch 14/30\n",
      "21/21 [==============================] - 0s 4ms/step - loss: nan - accuracy: 0.5365 - val_loss: nan - val_accuracy: 0.5357\n",
      "Epoch 15/30\n",
      "21/21 [==============================] - 0s 5ms/step - loss: nan - accuracy: 0.5365 - val_loss: nan - val_accuracy: 0.5357\n",
      "Epoch 16/30\n",
      "21/21 [==============================] - 0s 5ms/step - loss: nan - accuracy: 0.5365 - val_loss: nan - val_accuracy: 0.5357\n",
      "Epoch 17/30\n",
      "21/21 [==============================] - 0s 5ms/step - loss: nan - accuracy: 0.5365 - val_loss: nan - val_accuracy: 0.5357\n",
      "Epoch 18/30\n",
      "21/21 [==============================] - 0s 5ms/step - loss: nan - accuracy: 0.5365 - val_loss: nan - val_accuracy: 0.5357\n",
      "Epoch 19/30\n",
      "21/21 [==============================] - 0s 5ms/step - loss: nan - accuracy: 0.5365 - val_loss: nan - val_accuracy: 0.5357\n",
      "Epoch 20/30\n",
      "21/21 [==============================] - 0s 6ms/step - loss: nan - accuracy: 0.5365 - val_loss: nan - val_accuracy: 0.5357\n",
      "Epoch 21/30\n",
      "21/21 [==============================] - 0s 7ms/step - loss: nan - accuracy: 0.5365 - val_loss: nan - val_accuracy: 0.5357\n",
      "Epoch 22/30\n",
      "21/21 [==============================] - 0s 6ms/step - loss: nan - accuracy: 0.5365 - val_loss: nan - val_accuracy: 0.5357\n",
      "Epoch 23/30\n",
      "21/21 [==============================] - 0s 7ms/step - loss: nan - accuracy: 0.5365 - val_loss: nan - val_accuracy: 0.5357\n",
      "Epoch 24/30\n",
      "21/21 [==============================] - 0s 5ms/step - loss: nan - accuracy: 0.5365 - val_loss: nan - val_accuracy: 0.5357\n",
      "Epoch 25/30\n",
      "21/21 [==============================] - 0s 5ms/step - loss: nan - accuracy: 0.5365 - val_loss: nan - val_accuracy: 0.5357\n",
      "Epoch 26/30\n",
      "21/21 [==============================] - 0s 7ms/step - loss: nan - accuracy: 0.5365 - val_loss: nan - val_accuracy: 0.5357\n",
      "Epoch 27/30\n",
      "21/21 [==============================] - 0s 7ms/step - loss: nan - accuracy: 0.5365 - val_loss: nan - val_accuracy: 0.5357\n",
      "Epoch 28/30\n",
      "21/21 [==============================] - 0s 6ms/step - loss: nan - accuracy: 0.5365 - val_loss: nan - val_accuracy: 0.5357\n",
      "Epoch 29/30\n",
      "21/21 [==============================] - 0s 6ms/step - loss: nan - accuracy: 0.5365 - val_loss: nan - val_accuracy: 0.5357\n",
      "Epoch 30/30\n",
      "21/21 [==============================] - 0s 5ms/step - loss: nan - accuracy: 0.5365 - val_loss: nan - val_accuracy: 0.5357\n"
     ]
    }
   ],
   "source": [
    "history = model.fit(X_train_cnn, y_train, validation_data=(X_validate_cnn, y_validate), batch_size=32, epochs=30, class_weight=class_weight)"
   ]
  },
  {
   "cell_type": "code",
   "execution_count": 45,
   "metadata": {},
   "outputs": [],
   "source": [
    "def plot_history(history):\n",
    "\n",
    "    fig, axs = plt.subplots(2)\n",
    "\n",
    "    # create accuracy subplot\n",
    "    axs[0].plot(history.history[\"accuracy\"], label='train accuracy')\n",
    "    axs[0].plot(history.history['val_accuracy'], label='test accuracy')\n",
    "    axs[0].set_ylabel(\"Accuracy\")\n",
    "    axs[0].legend(loc=\"lower right\")\n",
    "    axs[0].set_title(\"Accuracy Evaluation\")\n",
    "\n",
    "    # create error subplot\n",
    "    axs[1].plot(history.history['loss'], label='train error')\n",
    "    axs[1].plot(history.history['val_loss'], label='test error')\n",
    "    axs[1].set_ylabel(\"Error\")\n",
    "    axs[1].legend(loc=\"upper right\")\n",
    "    axs[1].set_title(\"Error Evaluation\")\n",
    "\n",
    "    plt.show()"
   ]
  },
  {
   "cell_type": "code",
   "execution_count": 46,
   "metadata": {},
   "outputs": [
    {
     "data": {
      "image/png": "[encoded data removed]",
      "text/plain": [
       "<Figure size 432x288 with 2 Axes>"
      ]
     },
     "metadata": {
      "needs_background": "light"
     },
     "output_type": "display_data"
    }
   ],
   "source": [
    "plot_history(history)"
   ]
  },
  {
   "cell_type": "code",
   "execution_count": 47,
   "metadata": {},
   "outputs": [
    {
     "name": "stdout",
     "output_type": "stream",
     "text": [
      "7/7 - 0s - loss: nan - accuracy: 0.5381\n",
      "Accuracy on test set is: 0.538095235824585\n",
      "Error on test set is: nan\n",
      "\n",
      "\n",
      "\n",
      "21/21 - 0s - loss: nan - accuracy: 0.5365\n",
      "Accuracy on train set is: 0.5365126729011536\n",
      "Error on train set is: nan\n",
      "\n",
      "\n",
      "\n",
      "6/6 - 0s - loss: nan - accuracy: 0.5357\n",
      "Accuracy on validation set is: 0.5357142686843872\n",
      "Error on validation set is: nan\n"
     ]
    }
   ],
   "source": [
    "# evaluate the CNN on the test set\n",
    "test_error, test_accuracy = model.evaluate(X_test_cnn, y_test, verbose=2)\n",
    "print(\"Accuracy on test set is: {}\".format(test_accuracy))\n",
    "print(\"Error on test set is: {}\".format(test_error))\n",
    "print(\"\\n\\n\")\n",
    "\n",
    "# evaluate the CNN on the train set\n",
    "test_error, test_accuracy = model.evaluate(X_train_cnn, y_train, verbose=2)\n",
    "print(\"Accuracy on train set is: {}\".format(test_accuracy))\n",
    "print(\"Error on train set is: {}\".format(test_error))\n",
    "print(\"\\n\\n\")\n",
    "\n",
    "# evaluate the CNN on the validation set\n",
    "test_error, test_accuracy = model.evaluate(X_validate_cnn, y_validate, verbose=2)\n",
    "print(\"Accuracy on validation set is: {}\".format(test_accuracy))\n",
    "print(\"Error on validation set is: {}\".format(test_error))"
   ]
  },
  {
   "cell_type": "code",
   "execution_count": 48,
   "metadata": {},
   "outputs": [
    {
     "data": {
      "text/plain": [
       "<AxesSubplot:>"
      ]
     },
     "execution_count": 48,
     "metadata": {},
     "output_type": "execute_result"
    },
    {
     "data": {
      "image/png": "[encoded data removed]",
      "text/plain": [
       "<Figure size 432x288 with 2 Axes>"
      ]
     },
     "metadata": {
      "needs_background": "light"
     },
     "output_type": "display_data"
    }
   ],
   "source": [
    "y_pred = np.argmax(model.predict(X_test_cnn),axis=1)\n",
    "sns.heatmap(confusion_matrix(y_test, y_pred), annot=True, cmap=\"YlGnBu\")"
   ]
  },
  {
   "cell_type": "code",
   "execution_count": null,
   "metadata": {},
   "outputs": [],
   "source": []
  },
  {
   "cell_type": "markdown",
   "metadata": {},
   "source": [
    "## Building the model for Multi class classification"
   ]
  },
  {
   "cell_type": "code",
   "execution_count": 49,
   "metadata": {},
   "outputs": [],
   "source": [
    "X = np.array(mfcc['mfcc'])\n",
    "y = np.array(mfcc['type'])\n",
    "\n",
    "y = []\n",
    "\n",
    "mapping = {\n",
    "    'normal' : 0,\n",
    "    'murmur' : 1,\n",
    "    'artifact' : 2,\n",
    "    'extrastole' : 3,\n",
    "    'extrahls' : 4\n",
    "}\n",
    "\n",
    "for i in range(len(target)):\n",
    "    y.append(mapping[target[i]])\n",
    "\n",
    "y = np.array(y)"
   ]
  },
  {
   "cell_type": "code",
   "execution_count": 50,
   "metadata": {},
   "outputs": [],
   "source": [
    "X_train, X_test, y_train, y_test = train_test_split(X, y, test_size= 0.2, stratify= y)\n",
    "X_train, X_validate, y_train, y_validate = train_test_split(X_train, y_train, test_size= 0.2, stratify= y_train)"
   ]
  },
  {
   "cell_type": "code",
   "execution_count": 51,
   "metadata": {},
   "outputs": [
    {
     "data": {
      "text/plain": [
       "[360, 169, 77, 41, 24]"
      ]
     },
     "execution_count": 51,
     "metadata": {},
     "output_type": "execute_result"
    }
   ],
   "source": [
    "obs = list(pd.DataFrame(y_train).value_counts().sort_index())\n",
    "obs"
   ]
  },
  {
   "cell_type": "code",
   "execution_count": 52,
   "metadata": {},
   "outputs": [],
   "source": [
    "weights = []\n",
    "for i in range(0, 5):\n",
    "    weights.append(sum(obs)/obs[i])\n",
    "    \n",
    "#sum_weights = sum(weights)\n",
    "#for i in range(5):\n",
    "#    weights[i] = weights[i]/sum_weights\n",
    "\n",
    "class_weight = {\n",
    "    0 : weights[0],\n",
    "    1 : weights[1],\n",
    "    2 : weights[2],\n",
    "    3 : weights[3],\n",
    "    4 : weights[4]\n",
    "}"
   ]
  },
  {
   "cell_type": "code",
   "execution_count": 53,
   "metadata": {},
   "outputs": [
    {
     "data": {
      "text/plain": [
       "{0: 1.863888888888889,\n",
       " 1: 3.970414201183432,\n",
       " 2: 8.714285714285714,\n",
       " 3: 16.365853658536587,\n",
       " 4: 27.958333333333332}"
      ]
     },
     "execution_count": 53,
     "metadata": {},
     "output_type": "execute_result"
    }
   ],
   "source": [
    "class_weight"
   ]
  },
  {
   "cell_type": "code",
   "execution_count": 54,
   "metadata": {},
   "outputs": [],
   "source": [
    "X_train_cnn = X_train[..., np.newaxis]\n",
    "X_validate_cnn = X_validate[..., np.newaxis]\n",
    "X_test_cnn = X_test[..., np.newaxis]"
   ]
  },
  {
   "cell_type": "code",
   "execution_count": null,
   "metadata": {},
   "outputs": [],
   "source": []
  },
  {
   "cell_type": "code",
   "execution_count": 55,
   "metadata": {},
   "outputs": [],
   "source": [
    "model = keras.Sequential()\n",
    "\n",
    "model.add(keras.layers.Conv2D(32, (3,1), activation='relu', padding='same', input_shape=(X_train_cnn.shape[1], X_train_cnn.shape[2], X_train_cnn.shape[3])))\n",
    "model.add(keras.layers.MaxPool2D((2,1), strides=(2, 1), padding='same'))\n",
    "model.add(keras.layers.BatchNormalization())\n",
    "\n",
    "model.add(keras.layers.Conv2D(64, (3, 1), activation='relu'))\n",
    "model.add(keras.layers.MaxPool2D((2,1), strides=(2, 1), padding='same'))\n",
    "model.add(keras.layers.BatchNormalization())\n",
    "\n",
    "model.add(keras.layers.Flatten())\n",
    "model.add(keras.layers.Dense(32, activation='relu'))\n",
    "model.add(keras.layers.Dropout(0.5))\n",
    "\n",
    "model.add(keras.layers.Dense(5, activation='softmax'))"
   ]
  },
  {
   "cell_type": "code",
   "execution_count": 56,
   "metadata": {},
   "outputs": [
    {
     "name": "stdout",
     "output_type": "stream",
     "text": [
      "Model: \"sequential_4\"\n",
      "_________________________________________________________________\n",
      "Layer (type)                 Output Shape              Param #   \n",
      "=================================================================\n",
      "conv2d_7 (Conv2D)            (None, 130, 30, 32)       128       \n",
      "_________________________________________________________________\n",
      "max_pooling2d_7 (MaxPooling2 (None, 65, 30, 32)        0         \n",
      "_________________________________________________________________\n",
      "batch_normalization_7 (Batch (None, 65, 30, 32)        128       \n",
      "_________________________________________________________________\n",
      "conv2d_8 (Conv2D)            (None, 63, 30, 64)        6208      \n",
      "_________________________________________________________________\n",
      "max_pooling2d_8 (MaxPooling2 (None, 32, 30, 64)        0         \n",
      "_________________________________________________________________\n",
      "batch_normalization_8 (Batch (None, 32, 30, 64)        256       \n",
      "_________________________________________________________________\n",
      "flatten_4 (Flatten)          (None, 61440)             0         \n",
      "_________________________________________________________________\n",
      "dense_8 (Dense)              (None, 32)                1966112   \n",
      "_________________________________________________________________\n",
      "dropout_4 (Dropout)          (None, 32)                0         \n",
      "_________________________________________________________________\n",
      "dense_9 (Dense)              (None, 5)                 165       \n",
      "=================================================================\n",
      "Total params: 1,972,997\n",
      "Trainable params: 1,972,805\n",
      "Non-trainable params: 192\n",
      "_________________________________________________________________\n"
     ]
    }
   ],
   "source": [
    "optimizer = keras.optimizers.Adam(learning_rate=0.0001)\n",
    "model.compile(optimizer= optimizer, loss='sparse_categorical_crossentropy', metrics=['accuracy'])\n",
    "\n",
    "model.summary()"
   ]
  },
  {
   "cell_type": "code",
   "execution_count": 57,
   "metadata": {},
   "outputs": [
    {
     "name": "stdout",
     "output_type": "stream",
     "text": [
      "Epoch 1/60\n",
      "11/11 [==============================] - 0s 37ms/step - loss: 9.1577 - accuracy: 0.2981 - val_loss: 3.0684 - val_accuracy: 0.1131\n",
      "Epoch 2/60\n",
      "11/11 [==============================] - 0s 16ms/step - loss: 5.9710 - accuracy: 0.4396 - val_loss: 1.9640 - val_accuracy: 0.1310\n",
      "Epoch 3/60\n",
      "11/11 [==============================] - 0s 16ms/step - loss: 5.7334 - accuracy: 0.2578 - val_loss: 1.6430 - val_accuracy: 0.1548\n",
      "Epoch 4/60\n",
      "11/11 [==============================] - 0s 16ms/step - loss: 5.4607 - accuracy: 0.3875 - val_loss: 1.5726 - val_accuracy: 0.2619\n",
      "Epoch 5/60\n",
      "11/11 [==============================] - 0s 16ms/step - loss: 5.4580 - accuracy: 0.3770 - val_loss: 1.4778 - val_accuracy: 0.1548\n",
      "Epoch 6/60\n",
      "11/11 [==============================] - 0s 16ms/step - loss: 5.3939 - accuracy: 0.3219 - val_loss: 1.3309 - val_accuracy: 0.3274\n",
      "Epoch 7/60\n",
      "11/11 [==============================] - 0s 16ms/step - loss: 4.7218 - accuracy: 0.3756 - val_loss: 1.3520 - val_accuracy: 0.3690\n",
      "Epoch 8/60\n",
      "11/11 [==============================] - 0s 16ms/step - loss: 4.5948 - accuracy: 0.4411 - val_loss: 1.2664 - val_accuracy: 0.5060\n",
      "Epoch 9/60\n",
      "11/11 [==============================] - 0s 16ms/step - loss: 4.9392 - accuracy: 0.3443 - val_loss: 1.2867 - val_accuracy: 0.3452\n",
      "Epoch 10/60\n",
      "11/11 [==============================] - 0s 18ms/step - loss: 4.6099 - accuracy: 0.3472 - val_loss: 1.3572 - val_accuracy: 0.2917\n",
      "Epoch 11/60\n",
      "11/11 [==============================] - 0s 16ms/step - loss: 4.3643 - accuracy: 0.3636 - val_loss: 1.1822 - val_accuracy: 0.5060\n",
      "Epoch 12/60\n",
      "11/11 [==============================] - 0s 18ms/step - loss: 4.3042 - accuracy: 0.3577 - val_loss: 1.2824 - val_accuracy: 0.3393\n",
      "Epoch 13/60\n",
      "11/11 [==============================] - 0s 18ms/step - loss: 4.3421 - accuracy: 0.3398 - val_loss: 1.1660 - val_accuracy: 0.4226\n",
      "Epoch 14/60\n",
      "11/11 [==============================] - 0s 17ms/step - loss: 4.1400 - accuracy: 0.3666 - val_loss: 1.1406 - val_accuracy: 0.4405\n",
      "Epoch 15/60\n",
      "11/11 [==============================] - 0s 17ms/step - loss: 4.2768 - accuracy: 0.4113 - val_loss: 1.0772 - val_accuracy: 0.6012\n",
      "Epoch 16/60\n",
      "11/11 [==============================] - 0s 16ms/step - loss: 4.0267 - accuracy: 0.4188 - val_loss: 1.0563 - val_accuracy: 0.5595\n",
      "Epoch 17/60\n",
      "11/11 [==============================] - 0s 17ms/step - loss: 3.9490 - accuracy: 0.4128 - val_loss: 1.0708 - val_accuracy: 0.5774\n",
      "Epoch 18/60\n",
      "11/11 [==============================] - 0s 18ms/step - loss: 3.9916 - accuracy: 0.4292 - val_loss: 0.9823 - val_accuracy: 0.6131\n",
      "Epoch 19/60\n",
      "11/11 [==============================] - 0s 17ms/step - loss: 3.9048 - accuracy: 0.4262 - val_loss: 1.0169 - val_accuracy: 0.5476\n",
      "Epoch 20/60\n",
      "11/11 [==============================] - 0s 16ms/step - loss: 3.7531 - accuracy: 0.4501 - val_loss: 0.9628 - val_accuracy: 0.5774\n",
      "Epoch 21/60\n",
      "11/11 [==============================] - 0s 16ms/step - loss: 3.9463 - accuracy: 0.4486 - val_loss: 1.1451 - val_accuracy: 0.5655\n",
      "Epoch 22/60\n",
      "11/11 [==============================] - 0s 16ms/step - loss: 3.7087 - accuracy: 0.4322 - val_loss: 0.8872 - val_accuracy: 0.5893\n",
      "Epoch 23/60\n",
      "11/11 [==============================] - 0s 16ms/step - loss: 3.3008 - accuracy: 0.4754 - val_loss: 1.0071 - val_accuracy: 0.5417\n",
      "Epoch 24/60\n",
      "11/11 [==============================] - 0s 16ms/step - loss: 3.7428 - accuracy: 0.4635 - val_loss: 0.8935 - val_accuracy: 0.6012\n",
      "Epoch 25/60\n",
      "11/11 [==============================] - 0s 18ms/step - loss: 3.7561 - accuracy: 0.4769 - val_loss: 0.8897 - val_accuracy: 0.7083\n",
      "Epoch 26/60\n",
      "11/11 [==============================] - 0s 16ms/step - loss: 3.6677 - accuracy: 0.4620 - val_loss: 0.9443 - val_accuracy: 0.6131\n",
      "Epoch 27/60\n",
      "11/11 [==============================] - 0s 16ms/step - loss: 3.2736 - accuracy: 0.4739 - val_loss: 0.8631 - val_accuracy: 0.6964\n",
      "Epoch 28/60\n",
      "11/11 [==============================] - 0s 16ms/step - loss: 3.5751 - accuracy: 0.4724 - val_loss: 0.8949 - val_accuracy: 0.5595\n",
      "Epoch 29/60\n",
      "11/11 [==============================] - 0s 16ms/step - loss: 3.2742 - accuracy: 0.5231 - val_loss: 0.8640 - val_accuracy: 0.6488\n",
      "Epoch 30/60\n",
      "11/11 [==============================] - 0s 16ms/step - loss: 3.3676 - accuracy: 0.4709 - val_loss: 0.8850 - val_accuracy: 0.6071\n",
      "Epoch 31/60\n",
      "11/11 [==============================] - 0s 16ms/step - loss: 3.3728 - accuracy: 0.5082 - val_loss: 0.8850 - val_accuracy: 0.5952\n",
      "Epoch 32/60\n",
      "11/11 [==============================] - 0s 16ms/step - loss: 3.2394 - accuracy: 0.4739 - val_loss: 0.8543 - val_accuracy: 0.6488\n",
      "Epoch 33/60\n",
      "11/11 [==============================] - 0s 18ms/step - loss: 3.5822 - accuracy: 0.5067 - val_loss: 0.8664 - val_accuracy: 0.6607\n",
      "Epoch 34/60\n",
      "11/11 [==============================] - 0s 16ms/step - loss: 3.3464 - accuracy: 0.5350 - val_loss: 0.9123 - val_accuracy: 0.6071\n",
      "Epoch 35/60\n",
      "11/11 [==============================] - 0s 18ms/step - loss: 3.3451 - accuracy: 0.4650 - val_loss: 0.8432 - val_accuracy: 0.6310\n",
      "Epoch 36/60\n",
      "11/11 [==============================] - 0s 16ms/step - loss: 3.3163 - accuracy: 0.5320 - val_loss: 0.9064 - val_accuracy: 0.5417\n",
      "Epoch 37/60\n",
      "11/11 [==============================] - 0s 16ms/step - loss: 3.3460 - accuracy: 0.4784 - val_loss: 0.8863 - val_accuracy: 0.5714\n",
      "Epoch 38/60\n",
      "11/11 [==============================] - 0s 16ms/step - loss: 3.1703 - accuracy: 0.5604 - val_loss: 0.8317 - val_accuracy: 0.6369\n",
      "Epoch 39/60\n",
      "11/11 [==============================] - 0s 15ms/step - loss: 3.0302 - accuracy: 0.5678 - val_loss: 0.7875 - val_accuracy: 0.6607\n",
      "Epoch 40/60\n",
      "11/11 [==============================] - 0s 15ms/step - loss: 3.0705 - accuracy: 0.5768 - val_loss: 0.8481 - val_accuracy: 0.5893\n",
      "Epoch 41/60\n",
      "11/11 [==============================] - 0s 15ms/step - loss: 2.9385 - accuracy: 0.5067 - val_loss: 0.7909 - val_accuracy: 0.6548\n",
      "Epoch 42/60\n",
      "11/11 [==============================] - 0s 16ms/step - loss: 2.9905 - accuracy: 0.5633 - val_loss: 0.8476 - val_accuracy: 0.5952\n",
      "Epoch 43/60\n",
      "11/11 [==============================] - 0s 18ms/step - loss: 3.2778 - accuracy: 0.5365 - val_loss: 0.8448 - val_accuracy: 0.6429\n",
      "Epoch 44/60\n",
      "11/11 [==============================] - 0s 19ms/step - loss: 2.8441 - accuracy: 0.5529 - val_loss: 0.7796 - val_accuracy: 0.6905\n",
      "Epoch 45/60\n",
      "11/11 [==============================] - 0s 18ms/step - loss: 2.7267 - accuracy: 0.5812 - val_loss: 0.7892 - val_accuracy: 0.6548\n",
      "Epoch 46/60\n",
      "11/11 [==============================] - 0s 16ms/step - loss: 2.8855 - accuracy: 0.5768 - val_loss: 0.7982 - val_accuracy: 0.6607\n",
      "Epoch 47/60\n",
      "11/11 [==============================] - 0s 17ms/step - loss: 2.6307 - accuracy: 0.5708 - val_loss: 0.8053 - val_accuracy: 0.6131\n",
      "Epoch 48/60\n",
      "11/11 [==============================] - 0s 18ms/step - loss: 3.0033 - accuracy: 0.5633 - val_loss: 0.7379 - val_accuracy: 0.6726\n",
      "Epoch 49/60\n",
      "11/11 [==============================] - 0s 19ms/step - loss: 2.6888 - accuracy: 0.6095 - val_loss: 0.8170 - val_accuracy: 0.5952\n",
      "Epoch 50/60\n",
      "11/11 [==============================] - 0s 17ms/step - loss: 3.2066 - accuracy: 0.5469 - val_loss: 0.8200 - val_accuracy: 0.6548\n",
      "Epoch 51/60\n",
      "11/11 [==============================] - 0s 15ms/step - loss: 2.6855 - accuracy: 0.5961 - val_loss: 0.7656 - val_accuracy: 0.7083\n",
      "Epoch 52/60\n",
      "11/11 [==============================] - 0s 15ms/step - loss: 2.8269 - accuracy: 0.6021 - val_loss: 0.7741 - val_accuracy: 0.6726\n",
      "Epoch 53/60\n",
      "11/11 [==============================] - 0s 15ms/step - loss: 2.6567 - accuracy: 0.6036 - val_loss: 0.8083 - val_accuracy: 0.6250\n",
      "Epoch 54/60\n",
      "11/11 [==============================] - 0s 15ms/step - loss: 2.5931 - accuracy: 0.6200 - val_loss: 0.7766 - val_accuracy: 0.7024\n",
      "Epoch 55/60\n",
      "11/11 [==============================] - 0s 16ms/step - loss: 2.6145 - accuracy: 0.6155 - val_loss: 0.7727 - val_accuracy: 0.7024\n",
      "Epoch 56/60\n",
      "11/11 [==============================] - 0s 15ms/step - loss: 2.7984 - accuracy: 0.6304 - val_loss: 0.8021 - val_accuracy: 0.6845\n",
      "Epoch 57/60\n",
      "11/11 [==============================] - 0s 15ms/step - loss: 2.9128 - accuracy: 0.6021 - val_loss: 0.7905 - val_accuracy: 0.7083\n",
      "Epoch 58/60\n",
      "11/11 [==============================] - 0s 15ms/step - loss: 2.8228 - accuracy: 0.6051 - val_loss: 0.7492 - val_accuracy: 0.7083\n"
     ]
    },
    {
     "name": "stdout",
     "output_type": "stream",
     "text": [
      "Epoch 59/60\n",
      "11/11 [==============================] - 0s 15ms/step - loss: 2.6343 - accuracy: 0.6259 - val_loss: 0.7657 - val_accuracy: 0.6964\n",
      "Epoch 60/60\n",
      "11/11 [==============================] - 0s 15ms/step - loss: 2.7747 - accuracy: 0.6349 - val_loss: 0.8049 - val_accuracy: 0.6905\n"
     ]
    }
   ],
   "source": [
    "history = model.fit(X_train_cnn, y_train, validation_data=(X_validate_cnn, y_validate), batch_size=64, epochs=60, class_weight=class_weight)"
   ]
  },
  {
   "cell_type": "code",
   "execution_count": 58,
   "metadata": {},
   "outputs": [],
   "source": [
    "def plot_history(history):\n",
    "\n",
    "    fig, axs = plt.subplots(2)\n",
    "\n",
    "    # create accuracy subplot\n",
    "    axs[0].plot(history.history[\"accuracy\"], label='train accuracy')\n",
    "    axs[0].plot(history.history['val_accuracy'], label='test accuracy')\n",
    "    axs[0].set_ylabel(\"Accuracy\")\n",
    "    axs[0].legend(loc=\"lower right\")\n",
    "    axs[0].set_title(\"Accuracy Evaluation\")\n",
    "\n",
    "    # create error subplot\n",
    "    axs[1].plot(history.history['loss'], label='train error')\n",
    "    axs[1].plot(history.history['val_loss'], label='test error')\n",
    "    axs[1].set_ylabel(\"Error\")\n",
    "    axs[1].legend(loc=\"upper right\")\n",
    "    axs[1].set_title(\"Error Evaluation\")\n",
    "\n",
    "    plt.show()"
   ]
  },
  {
   "cell_type": "code",
   "execution_count": 59,
   "metadata": {},
   "outputs": [
    {
     "data": {
      "image/png": "[encoded data removed]",
      "text/plain": [
       "<Figure size 432x288 with 2 Axes>"
      ]
     },
     "metadata": {
      "needs_background": "light"
     },
     "output_type": "display_data"
    }
   ],
   "source": [
    "plot_history(history)"
   ]
  },
  {
   "cell_type": "code",
   "execution_count": 60,
   "metadata": {},
   "outputs": [
    {
     "name": "stdout",
     "output_type": "stream",
     "text": [
      "7/7 - 0s - loss: 0.7865 - accuracy: 0.7286\n",
      "Accuracy on test set is: 0.7285714149475098\n",
      "Error on test set is: 0.7864954471588135\n",
      "\n",
      "\n",
      "\n",
      "21/21 - 0s - loss: 0.2104 - accuracy: 0.9687\n",
      "Accuracy on train set is: 0.9687034487724304\n",
      "Error on train set is: 0.21036532521247864\n",
      "\n",
      "\n",
      "\n",
      "6/6 - 0s - loss: 0.8049 - accuracy: 0.6905\n",
      "Accuracy on validation set is: 0.6904761791229248\n",
      "Error on validation set is: 0.8048645257949829\n"
     ]
    }
   ],
   "source": [
    "# evaluate the CNN on the test set\n",
    "test_error, test_accuracy = model.evaluate(X_test_cnn, y_test, verbose=2)\n",
    "print(\"Accuracy on test set is: {}\".format(test_accuracy))\n",
    "print(\"Error on test set is: {}\".format(test_error))\n",
    "print(\"\\n\\n\")\n",
    "\n",
    "# evaluate the CNN on the train set\n",
    "test_error, test_accuracy = model.evaluate(X_train_cnn, y_train, verbose=2)\n",
    "print(\"Accuracy on train set is: {}\".format(test_accuracy))\n",
    "print(\"Error on train set is: {}\".format(test_error))\n",
    "print(\"\\n\\n\")\n",
    "\n",
    "# evaluate the CNN on the validation set\n",
    "test_error, test_accuracy = model.evaluate(X_validate_cnn, y_validate, verbose=2)\n",
    "print(\"Accuracy on validation set is: {}\".format(test_accuracy))\n",
    "print(\"Error on validation set is: {}\".format(test_error))"
   ]
  },
  {
   "cell_type": "code",
   "execution_count": 61,
   "metadata": {},
   "outputs": [
    {
     "data": {
      "image/png": "[encoded data removed]",
      "text/plain": [
       "<Figure size 432x288 with 2 Axes>"
      ]
     },
     "metadata": {
      "needs_background": "light"
     },
     "output_type": "display_data"
    }
   ],
   "source": [
    "y_pred = np.argmax(model.predict(X_test_cnn),axis=1)\n",
    "sns.heatmap(confusion_matrix(y_test, y_pred), annot=True, cmap=\"YlGnBu\")"
   ]
  },
  {
   "cell_type": "code",
   "execution_count": null,
   "metadata": {},
   "outputs": [],
   "source": []
  },
  {
   "cell_type": "code",
   "execution_count": null,
   "metadata": {},
   "outputs": [],
   "source": []
  },
  {
   "cell_type": "code",
   "execution_count": null,
   "metadata": {},
   "outputs": [],
   "source": []
  }
 ],
 "metadata": {
  "kernelspec": {
   "display_name": "Python 3",
   "language": "python",
   "name": "python3"
  },
  "language_info": {
   "codemirror_mode": {
    "name": "ipython",
    "version": 3
   },
   "file_extension": ".py",
   "mimetype": "text/x-python",
   "name": "python",
   "nbconvert_exporter": "python",
   "pygments_lexer": "ipython3",
   "version": "3.8.5"
  }
 },
 "nbformat": 4,
 "nbformat_minor": 4
}
