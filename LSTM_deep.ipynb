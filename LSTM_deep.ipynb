{
 "cells": [
  {
   "cell_type": "markdown",
   "metadata": {},
   "source": [
    "### Importing required libraries"
   ]
  },
  {
   "cell_type": "code",
   "execution_count": 18,
   "metadata": {},
   "outputs": [],
   "source": [
    "import numpy as np\n",
    "import json\n",
    "import matplotlib.pyplot as plt\n",
    "import seaborn as sns\n",
    "import pandas as pd\n",
    "\n",
    "import tensorflow as tf\n",
    "from tensorflow import keras\n",
    "### Use GPU if available\n",
    "physical_devices = tf.config.experimental.list_physical_devices('GPU')\n",
    "assert len(physical_devices) > 0, \"Not enough GPU hardware devices available\"\n",
    "config = tf.config.experimental.set_memory_growth(physical_devices[0], True)\n",
    "\n",
    "from sklearn.model_selection import train_test_split\n",
    "from sklearn.metrics import confusion_matrix"
   ]
  },
  {
   "cell_type": "code",
   "execution_count": null,
   "metadata": {},
   "outputs": [],
   "source": []
  },
  {
   "cell_type": "markdown",
   "metadata": {},
   "source": [
    "### Reading JSON file"
   ]
  },
  {
   "cell_type": "code",
   "execution_count": 2,
   "metadata": {},
   "outputs": [],
   "source": [
    "with open(\"MFCC.json\", 'r') as fp:\n",
    "    mfcc = json.load(fp)"
   ]
  },
  {
   "cell_type": "code",
   "execution_count": null,
   "metadata": {},
   "outputs": [],
   "source": []
  },
  {
   "cell_type": "markdown",
   "metadata": {},
   "source": [
    "### Preparing data for DL"
   ]
  },
  {
   "cell_type": "code",
   "execution_count": 3,
   "metadata": {},
   "outputs": [],
   "source": [
    "X = np.array(mfcc['mfcc'])\n",
    "target = np.array(mfcc['type'])"
   ]
  },
  {
   "cell_type": "code",
   "execution_count": 4,
   "metadata": {},
   "outputs": [],
   "source": [
    "normal = []\n",
    "y = []\n",
    "\n",
    "mapping = {\n",
    "    'normal' : 0,\n",
    "    'murmur' : 1,\n",
    "    'artifact' : 2,\n",
    "    'extrastole' : 3,\n",
    "    'extrahls' : 4\n",
    "}\n",
    "\n",
    "for i in range(len(target)):\n",
    "    y.append(mapping[target[i]])\n",
    "    if target[i] == 'normal':\n",
    "        normal.append(1)\n",
    "    else:\n",
    "        normal.append(0)\n",
    "\n",
    "y = np.array(y)\n",
    "normal = np.array(normal)"
   ]
  },
  {
   "cell_type": "code",
   "execution_count": 5,
   "metadata": {},
   "outputs": [],
   "source": [
    "X_train, X_test, y_train, y_test = train_test_split(X, normal, test_size= 0.2, stratify= normal)\n",
    "X_train, X_validate, y_train, y_validate = train_test_split(X_train, y_train, test_size= 0.2, stratify= y_train)"
   ]
  },
  {
   "cell_type": "code",
   "execution_count": null,
   "metadata": {},
   "outputs": [],
   "source": []
  },
  {
   "cell_type": "markdown",
   "metadata": {},
   "source": [
    "### Building the model"
   ]
  },
  {
   "cell_type": "code",
   "execution_count": 6,
   "metadata": {},
   "outputs": [],
   "source": [
    "model = keras.Sequential()\n",
    "\n",
    "model.add(keras.layers.LSTM(100, input_shape=(X_train.shape[1], X_train.shape[2]), return_sequences=True))\n",
    "model.add(keras.layers.Bidirectional(keras.layers.LSTM(100, return_sequences=True)))\n",
    "model.add(keras.layers.Bidirectional(keras.layers.LSTM(100, return_sequences=True)))\n",
    "model.add(keras.layers.LSTM(100))\n",
    "\n",
    "model.add(keras.layers.Dense(64, activation='relu'))\n",
    "model.add(keras.layers.Dropout(0.3))\n",
    "\n",
    "model.add(keras.layers.Dense(1, activation='sigmoid'))"
   ]
  },
  {
   "cell_type": "code",
   "execution_count": 7,
   "metadata": {},
   "outputs": [
    {
     "name": "stdout",
     "output_type": "stream",
     "text": [
      "Model: \"sequential\"\n",
      "_________________________________________________________________\n",
      "Layer (type)                 Output Shape              Param #   \n",
      "=================================================================\n",
      "lstm (LSTM)                  (None, 130, 100)          52400     \n",
      "_________________________________________________________________\n",
      "bidirectional (Bidirectional (None, 130, 200)          160800    \n",
      "_________________________________________________________________\n",
      "bidirectional_1 (Bidirection (None, 130, 200)          240800    \n",
      "_________________________________________________________________\n",
      "lstm_3 (LSTM)                (None, 100)               120400    \n",
      "_________________________________________________________________\n",
      "dense (Dense)                (None, 64)                6464      \n",
      "_________________________________________________________________\n",
      "dropout (Dropout)            (None, 64)                0         \n",
      "_________________________________________________________________\n",
      "dense_1 (Dense)              (None, 1)                 65        \n",
      "=================================================================\n",
      "Total params: 580,929\n",
      "Trainable params: 580,929\n",
      "Non-trainable params: 0\n",
      "_________________________________________________________________\n"
     ]
    }
   ],
   "source": [
    "optimizer = keras.optimizers.Adam(learning_rate=0.0005)\n",
    "model.compile(optimizer=optimizer, loss='binary_crossentropy', metrics=['accuracy'])\n",
    "\n",
    "model.summary()"
   ]
  },
  {
   "cell_type": "code",
   "execution_count": 8,
   "metadata": {},
   "outputs": [
    {
     "name": "stdout",
     "output_type": "stream",
     "text": [
      "Epoch 1/20\n",
      "21/21 [==============================] - 2s 93ms/step - loss: 0.6728 - accuracy: 0.6021 - val_loss: 0.6259 - val_accuracy: 0.6786\n",
      "Epoch 2/20\n",
      "21/21 [==============================] - 1s 45ms/step - loss: 0.6349 - accuracy: 0.6587 - val_loss: 0.5896 - val_accuracy: 0.7143\n",
      "Epoch 3/20\n",
      "21/21 [==============================] - 1s 44ms/step - loss: 0.5966 - accuracy: 0.7079 - val_loss: 0.5527 - val_accuracy: 0.7560\n",
      "Epoch 4/20\n",
      "21/21 [==============================] - 1s 42ms/step - loss: 0.5780 - accuracy: 0.7168 - val_loss: 0.5519 - val_accuracy: 0.7440\n",
      "Epoch 5/20\n",
      "21/21 [==============================] - 1s 42ms/step - loss: 0.5826 - accuracy: 0.7198 - val_loss: 0.5493 - val_accuracy: 0.7440\n",
      "Epoch 6/20\n",
      "21/21 [==============================] - 1s 43ms/step - loss: 0.5720 - accuracy: 0.7228 - val_loss: 0.5861 - val_accuracy: 0.7024\n",
      "Epoch 7/20\n",
      "21/21 [==============================] - 1s 44ms/step - loss: 0.5593 - accuracy: 0.7303 - val_loss: 0.5349 - val_accuracy: 0.7500\n",
      "Epoch 8/20\n",
      "21/21 [==============================] - 1s 43ms/step - loss: 0.5294 - accuracy: 0.7496 - val_loss: 0.5323 - val_accuracy: 0.7857\n",
      "Epoch 9/20\n",
      "21/21 [==============================] - 1s 42ms/step - loss: 0.5131 - accuracy: 0.7526 - val_loss: 0.5231 - val_accuracy: 0.7798\n",
      "Epoch 10/20\n",
      "21/21 [==============================] - 1s 43ms/step - loss: 0.5178 - accuracy: 0.7541 - val_loss: 0.5706 - val_accuracy: 0.7560\n",
      "Epoch 11/20\n",
      "21/21 [==============================] - 1s 41ms/step - loss: 0.5696 - accuracy: 0.7079 - val_loss: 0.5386 - val_accuracy: 0.7381\n",
      "Epoch 12/20\n",
      "21/21 [==============================] - 1s 43ms/step - loss: 0.5084 - accuracy: 0.7601 - val_loss: 0.5642 - val_accuracy: 0.6845\n",
      "Epoch 13/20\n",
      "21/21 [==============================] - 1s 42ms/step - loss: 0.4995 - accuracy: 0.7541 - val_loss: 0.5540 - val_accuracy: 0.7202\n",
      "Epoch 14/20\n",
      "21/21 [==============================] - 1s 43ms/step - loss: 0.4485 - accuracy: 0.7794 - val_loss: 0.5526 - val_accuracy: 0.7798\n",
      "Epoch 15/20\n",
      "21/21 [==============================] - 1s 42ms/step - loss: 0.4578 - accuracy: 0.7914 - val_loss: 0.5209 - val_accuracy: 0.7619\n",
      "Epoch 16/20\n",
      "21/21 [==============================] - 1s 46ms/step - loss: 0.4643 - accuracy: 0.7779 - val_loss: 0.5335 - val_accuracy: 0.7500\n",
      "Epoch 17/20\n",
      "21/21 [==============================] - 1s 42ms/step - loss: 0.4384 - accuracy: 0.7779 - val_loss: 0.5265 - val_accuracy: 0.7738\n",
      "Epoch 18/20\n",
      "21/21 [==============================] - 1s 41ms/step - loss: 0.4049 - accuracy: 0.8107 - val_loss: 0.6024 - val_accuracy: 0.7560\n",
      "Epoch 19/20\n",
      "21/21 [==============================] - 1s 40ms/step - loss: 0.4466 - accuracy: 0.8033 - val_loss: 0.5750 - val_accuracy: 0.7619\n",
      "Epoch 20/20\n",
      "21/21 [==============================] - 1s 41ms/step - loss: 0.4202 - accuracy: 0.8122 - val_loss: 0.5293 - val_accuracy: 0.7679\n"
     ]
    }
   ],
   "source": [
    "history = model.fit(X_train, y_train, validation_data=(X_validate, y_validate), batch_size=32, epochs=20)"
   ]
  },
  {
   "cell_type": "code",
   "execution_count": 9,
   "metadata": {},
   "outputs": [],
   "source": [
    "def plot_history(history):\n",
    "\n",
    "    fig, axs = plt.subplots(2)\n",
    "\n",
    "    # create accuracy subplot\n",
    "    axs[0].plot(history.history[\"accuracy\"], label='train accuracy')\n",
    "    axs[0].plot(history.history['val_accuracy'], label='test accuracy')\n",
    "    axs[0].set_ylabel(\"Accuracy\")\n",
    "    axs[0].legend(loc=\"lower right\")\n",
    "    axs[0].set_title(\"Accuracy Evaluation\")\n",
    "\n",
    "    # create error subplot\n",
    "    axs[1].plot(history.history['loss'], label='train error')\n",
    "    axs[1].plot(history.history['val_loss'], label='test error')\n",
    "    axs[1].set_ylabel(\"Error\")\n",
    "    axs[1].legend(loc=\"upper right\")\n",
    "    axs[1].set_title(\"Error Evaluation\")\n",
    "\n",
    "    plt.show()"
   ]
  },
  {
   "cell_type": "code",
   "execution_count": 10,
   "metadata": {},
   "outputs": [
    {
     "data": {
      "image/png": "[encoded data removed]",
      "text/plain": [
       "<Figure size 432x288 with 2 Axes>"
      ]
     },
     "metadata": {
      "needs_background": "light"
     },
     "output_type": "display_data"
    }
   ],
   "source": [
    "plot_history(history)"
   ]
  },
  {
   "cell_type": "code",
   "execution_count": 11,
   "metadata": {},
   "outputs": [
    {
     "name": "stdout",
     "output_type": "stream",
     "text": [
      "7/7 - 0s - loss: 0.4992 - accuracy: 0.7524\n",
      "Accuracy on test set is: 0.7523809671401978\n",
      "Error on test set is: 0.49921315908432007\n",
      "\n",
      "\n",
      "\n",
      "21/21 - 0s - loss: 0.3556 - accuracy: 0.8286\n",
      "Accuracy on train set is: 0.8286139965057373\n",
      "Error on train set is: 0.35560357570648193\n",
      "\n",
      "\n",
      "\n",
      "6/6 - 0s - loss: 0.5293 - accuracy: 0.7679\n",
      "Accuracy on validation set is: 0.7678571343421936\n",
      "Error on validation set is: 0.5293354392051697\n"
     ]
    }
   ],
   "source": [
    "# evaluate the CNN on the test set\n",
    "test_error, test_accuracy = model.evaluate(X_test, y_test, verbose=2)\n",
    "print(\"Accuracy on test set is: {}\".format(test_accuracy))\n",
    "print(\"Error on test set is: {}\".format(test_error))\n",
    "print(\"\\n\\n\")\n",
    "\n",
    "# evaluate the CNN on the train set\n",
    "test_error, test_accuracy = model.evaluate(X_train, y_train, verbose=2)\n",
    "print(\"Accuracy on train set is: {}\".format(test_accuracy))\n",
    "print(\"Error on train set is: {}\".format(test_error))\n",
    "print(\"\\n\\n\")\n",
    "\n",
    "# evaluate the CNN on the validation set\n",
    "test_error, test_accuracy = model.evaluate(X_validate, y_validate, verbose=2)\n",
    "print(\"Accuracy on validation set is: {}\".format(test_accuracy))\n",
    "print(\"Error on validation set is: {}\".format(test_error))"
   ]
  },
  {
   "cell_type": "code",
   "execution_count": 12,
   "metadata": {},
   "outputs": [
    {
     "data": {
      "text/plain": [
       "<AxesSubplot:>"
      ]
     },
     "execution_count": 12,
     "metadata": {},
     "output_type": "execute_result"
    },
    {
     "data": {
      "image/png": "[encoded data removed]",
      "text/plain": [
       "<Figure size 432x288 with 2 Axes>"
      ]
     },
     "metadata": {
      "needs_background": "light"
     },
     "output_type": "display_data"
    }
   ],
   "source": [
    "y_pred = np.argmax(model.predict(X_test),axis=1)\n",
    "sns.heatmap(confusion_matrix(y_test, y_pred), annot=True, cmap=\"YlGnBu\")"
   ]
  },
  {
   "cell_type": "code",
   "execution_count": null,
   "metadata": {},
   "outputs": [],
   "source": []
  },
  {
   "cell_type": "markdown",
   "metadata": {},
   "source": [
    "### Building LSTM model for multi class classification"
   ]
  },
  {
   "cell_type": "code",
   "execution_count": 19,
   "metadata": {},
   "outputs": [],
   "source": [
    "X = np.array(mfcc['mfcc'])\n",
    "target = np.array(mfcc['type'])\n",
    "\n",
    "y = []\n",
    "\n",
    "mapping = {\n",
    "    'normal' : 0,\n",
    "    'murmur' : 1,\n",
    "    'artifact' : 2,\n",
    "    'extrastole' : 3,\n",
    "    'extrahls' : 4\n",
    "}\n",
    "\n",
    "for i in range(len(target)):\n",
    "    y.append(mapping[target[i]])\n",
    "    \n",
    "\n",
    "y = np.array(y)"
   ]
  },
  {
   "cell_type": "code",
   "execution_count": 20,
   "metadata": {},
   "outputs": [],
   "source": [
    "X_train, X_test, y_train, y_test = train_test_split(X, y, test_size= 0.2, stratify= y)\n",
    "X_train, X_validate, y_train, y_validate = train_test_split(X_train, y_train, test_size= 0.2, stratify= y_train)"
   ]
  },
  {
   "cell_type": "code",
   "execution_count": 21,
   "metadata": {},
   "outputs": [
    {
     "data": {
      "text/plain": [
       "[360, 169, 77, 41, 24]"
      ]
     },
     "execution_count": 21,
     "metadata": {},
     "output_type": "execute_result"
    }
   ],
   "source": [
    "obs = list(pd.DataFrame(y_train).value_counts().sort_index())\n",
    "obs"
   ]
  },
  {
   "cell_type": "code",
   "execution_count": 22,
   "metadata": {},
   "outputs": [],
   "source": [
    "weights = []\n",
    "for i in range(0, 5):\n",
    "    weights.append(sum(obs)/obs[i])\n",
    "\n",
    "class_weight = {\n",
    "    0 : weights[0],\n",
    "    1 : weights[1],\n",
    "    2 : weights[2],\n",
    "    3 : weights[3],\n",
    "    4 : weights[4]\n",
    "}"
   ]
  },
  {
   "cell_type": "code",
   "execution_count": 23,
   "metadata": {},
   "outputs": [
    {
     "data": {
      "text/plain": [
       "{0: 1.863888888888889,\n",
       " 1: 3.970414201183432,\n",
       " 2: 8.714285714285714,\n",
       " 3: 16.365853658536587,\n",
       " 4: 27.958333333333332}"
      ]
     },
     "execution_count": 23,
     "metadata": {},
     "output_type": "execute_result"
    }
   ],
   "source": [
    "class_weight"
   ]
  },
  {
   "cell_type": "code",
   "execution_count": null,
   "metadata": {},
   "outputs": [],
   "source": []
  },
  {
   "cell_type": "code",
   "execution_count": 24,
   "metadata": {},
   "outputs": [],
   "source": [
    "model = keras.Sequential()\n",
    "\n",
    "model.add(keras.layers.LSTM(100, input_shape=(X_train.shape[1], X_train.shape[2]), return_sequences=True))\n",
    "model.add(keras.layers.Bidirectional(keras.layers.LSTM(100, return_sequences=True)))\n",
    "model.add(keras.layers.Bidirectional(keras.layers.LSTM(100, return_sequences=True)))\n",
    "model.add(keras.layers.LSTM(100))\n",
    "\n",
    "model.add(keras.layers.Dense(64, activation='relu'))\n",
    "model.add(keras.layers.Dropout(0.3))\n",
    "\n",
    "model.add(keras.layers.Dense(5, activation='softmax'))"
   ]
  },
  {
   "cell_type": "code",
   "execution_count": 25,
   "metadata": {},
   "outputs": [
    {
     "name": "stdout",
     "output_type": "stream",
     "text": [
      "Model: \"sequential_1\"\n",
      "_________________________________________________________________\n",
      "Layer (type)                 Output Shape              Param #   \n",
      "=================================================================\n",
      "lstm_4 (LSTM)                (None, 130, 100)          52400     \n",
      "_________________________________________________________________\n",
      "bidirectional_2 (Bidirection (None, 130, 200)          160800    \n",
      "_________________________________________________________________\n",
      "bidirectional_3 (Bidirection (None, 130, 200)          240800    \n",
      "_________________________________________________________________\n",
      "lstm_7 (LSTM)                (None, 100)               120400    \n",
      "_________________________________________________________________\n",
      "dense_2 (Dense)              (None, 64)                6464      \n",
      "_________________________________________________________________\n",
      "dropout_1 (Dropout)          (None, 64)                0         \n",
      "_________________________________________________________________\n",
      "dense_3 (Dense)              (None, 5)                 325       \n",
      "=================================================================\n",
      "Total params: 581,189\n",
      "Trainable params: 581,189\n",
      "Non-trainable params: 0\n",
      "_________________________________________________________________\n"
     ]
    }
   ],
   "source": [
    "optimizer = keras.optimizers.Adam(learning_rate=0.0001)\n",
    "model.compile(optimizer=optimizer, loss='sparse_categorical_crossentropy', metrics=['accuracy'])\n",
    "\n",
    "model.summary()"
   ]
  },
  {
   "cell_type": "code",
   "execution_count": 26,
   "metadata": {},
   "outputs": [
    {
     "name": "stdout",
     "output_type": "stream",
     "text": [
      "Epoch 1/100\n",
      "21/21 [==============================] - 2s 99ms/step - loss: 8.0230 - accuracy: 0.1446 - val_loss: 1.5786 - val_accuracy: 0.2440\n",
      "Epoch 2/100\n",
      "21/21 [==============================] - 1s 41ms/step - loss: 7.7632 - accuracy: 0.3949 - val_loss: 1.5586 - val_accuracy: 0.2321\n",
      "Epoch 3/100\n",
      "21/21 [==============================] - 1s 42ms/step - loss: 7.1780 - accuracy: 0.2802 - val_loss: 1.4031 - val_accuracy: 0.4286\n",
      "Epoch 4/100\n",
      "21/21 [==============================] - 1s 42ms/step - loss: 6.3362 - accuracy: 0.4650 - val_loss: 1.2792 - val_accuracy: 0.4702\n",
      "Epoch 5/100\n",
      "21/21 [==============================] - 1s 42ms/step - loss: 5.3862 - accuracy: 0.5112 - val_loss: 1.1194 - val_accuracy: 0.6250\n",
      "Epoch 6/100\n",
      "21/21 [==============================] - 1s 42ms/step - loss: 4.7248 - accuracy: 0.5604 - val_loss: 1.0898 - val_accuracy: 0.4583\n",
      "Epoch 7/100\n",
      "21/21 [==============================] - 1s 43ms/step - loss: 4.2870 - accuracy: 0.5469 - val_loss: 1.0119 - val_accuracy: 0.5655\n",
      "Epoch 8/100\n",
      "21/21 [==============================] - 1s 43ms/step - loss: 4.1228 - accuracy: 0.5395 - val_loss: 1.0215 - val_accuracy: 0.5595\n",
      "Epoch 9/100\n",
      "21/21 [==============================] - 1s 45ms/step - loss: 4.2379 - accuracy: 0.5261 - val_loss: 0.9606 - val_accuracy: 0.5476\n",
      "Epoch 10/100\n",
      "21/21 [==============================] - 1s 43ms/step - loss: 3.8588 - accuracy: 0.6036 - val_loss: 1.0184 - val_accuracy: 0.3929\n",
      "Epoch 11/100\n",
      "21/21 [==============================] - 1s 42ms/step - loss: 3.6159 - accuracy: 0.4769 - val_loss: 0.9950 - val_accuracy: 0.4405\n",
      "Epoch 12/100\n",
      "21/21 [==============================] - 1s 42ms/step - loss: 3.5356 - accuracy: 0.5663 - val_loss: 0.9423 - val_accuracy: 0.5595\n",
      "Epoch 13/100\n",
      "21/21 [==============================] - 1s 42ms/step - loss: 3.4903 - accuracy: 0.5648 - val_loss: 1.0297 - val_accuracy: 0.4107\n",
      "Epoch 14/100\n",
      "21/21 [==============================] - 1s 42ms/step - loss: 3.6219 - accuracy: 0.5693 - val_loss: 1.1159 - val_accuracy: 0.3690\n",
      "Epoch 15/100\n",
      "21/21 [==============================] - 1s 42ms/step - loss: 3.5154 - accuracy: 0.4799 - val_loss: 1.0041 - val_accuracy: 0.4583\n",
      "Epoch 16/100\n",
      "21/21 [==============================] - 1s 42ms/step - loss: 3.3464 - accuracy: 0.5738 - val_loss: 0.9835 - val_accuracy: 0.4583\n",
      "Epoch 17/100\n",
      "21/21 [==============================] - 1s 42ms/step - loss: 3.2319 - accuracy: 0.5738 - val_loss: 0.8811 - val_accuracy: 0.5655\n",
      "Epoch 18/100\n",
      "21/21 [==============================] - 1s 41ms/step - loss: 3.0739 - accuracy: 0.5961 - val_loss: 0.8678 - val_accuracy: 0.5952\n",
      "Epoch 19/100\n",
      "21/21 [==============================] - 1s 41ms/step - loss: 3.0353 - accuracy: 0.5723 - val_loss: 1.0207 - val_accuracy: 0.4881\n",
      "Epoch 20/100\n",
      "21/21 [==============================] - 1s 42ms/step - loss: 3.6483 - accuracy: 0.5544 - val_loss: 0.9239 - val_accuracy: 0.5774\n",
      "Epoch 21/100\n",
      "21/21 [==============================] - 1s 42ms/step - loss: 3.6594 - accuracy: 0.5648 - val_loss: 0.9776 - val_accuracy: 0.5000\n",
      "Epoch 22/100\n",
      "21/21 [==============================] - 1s 42ms/step - loss: 3.2409 - accuracy: 0.5946 - val_loss: 0.9446 - val_accuracy: 0.5060\n",
      "Epoch 23/100\n",
      "21/21 [==============================] - 1s 41ms/step - loss: 3.2231 - accuracy: 0.5797 - val_loss: 0.8896 - val_accuracy: 0.5417\n",
      "Epoch 24/100\n",
      "21/21 [==============================] - 1s 42ms/step - loss: 3.0918 - accuracy: 0.5872 - val_loss: 1.0278 - val_accuracy: 0.4583\n",
      "Epoch 25/100\n",
      "21/21 [==============================] - 1s 42ms/step - loss: 3.0797 - accuracy: 0.5902 - val_loss: 0.9759 - val_accuracy: 0.4524\n",
      "Epoch 26/100\n",
      "21/21 [==============================] - 1s 42ms/step - loss: 2.9220 - accuracy: 0.6066 - val_loss: 0.8033 - val_accuracy: 0.5833\n",
      "Epoch 27/100\n",
      "21/21 [==============================] - 1s 41ms/step - loss: 2.7030 - accuracy: 0.6453 - val_loss: 0.9338 - val_accuracy: 0.5357\n",
      "Epoch 28/100\n",
      "21/21 [==============================] - 1s 41ms/step - loss: 2.8000 - accuracy: 0.6155 - val_loss: 0.9482 - val_accuracy: 0.5179\n",
      "Epoch 29/100\n",
      "21/21 [==============================] - 1s 42ms/step - loss: 2.7376 - accuracy: 0.6408 - val_loss: 0.9871 - val_accuracy: 0.4881\n",
      "Epoch 30/100\n",
      "21/21 [==============================] - 1s 41ms/step - loss: 2.6152 - accuracy: 0.6230 - val_loss: 0.8265 - val_accuracy: 0.5714\n",
      "Epoch 31/100\n",
      "21/21 [==============================] - 1s 41ms/step - loss: 2.5871 - accuracy: 0.6364 - val_loss: 0.8963 - val_accuracy: 0.5595\n",
      "Epoch 32/100\n",
      "21/21 [==============================] - 1s 42ms/step - loss: 2.6015 - accuracy: 0.6453 - val_loss: 0.9057 - val_accuracy: 0.5417\n",
      "Epoch 33/100\n",
      "21/21 [==============================] - 1s 42ms/step - loss: 2.5004 - accuracy: 0.6334 - val_loss: 0.9487 - val_accuracy: 0.5060\n",
      "Epoch 34/100\n",
      "21/21 [==============================] - 1s 42ms/step - loss: 2.5860 - accuracy: 0.6542 - val_loss: 0.9053 - val_accuracy: 0.5655\n",
      "Epoch 35/100\n",
      "21/21 [==============================] - 1s 42ms/step - loss: 2.4941 - accuracy: 0.6483 - val_loss: 0.9845 - val_accuracy: 0.5357\n",
      "Epoch 36/100\n",
      "21/21 [==============================] - 1s 42ms/step - loss: 2.6570 - accuracy: 0.6244 - val_loss: 1.0119 - val_accuracy: 0.4643\n",
      "Epoch 37/100\n",
      "21/21 [==============================] - 1s 41ms/step - loss: 2.6173 - accuracy: 0.6110 - val_loss: 0.9276 - val_accuracy: 0.5119\n",
      "Epoch 38/100\n",
      "21/21 [==============================] - 1s 41ms/step - loss: 2.4941 - accuracy: 0.6438 - val_loss: 0.8284 - val_accuracy: 0.5655\n",
      "Epoch 39/100\n",
      "21/21 [==============================] - 1s 41ms/step - loss: 2.4780 - accuracy: 0.6334 - val_loss: 0.9367 - val_accuracy: 0.4702\n",
      "Epoch 40/100\n",
      "21/21 [==============================] - 1s 41ms/step - loss: 2.3919 - accuracy: 0.6319 - val_loss: 0.9073 - val_accuracy: 0.5298\n",
      "Epoch 41/100\n",
      "21/21 [==============================] - 1s 41ms/step - loss: 2.2014 - accuracy: 0.6885 - val_loss: 0.8598 - val_accuracy: 0.5952\n",
      "Epoch 42/100\n",
      "21/21 [==============================] - 1s 41ms/step - loss: 2.1742 - accuracy: 0.6662 - val_loss: 0.9255 - val_accuracy: 0.5357\n",
      "Epoch 43/100\n",
      "21/21 [==============================] - 1s 41ms/step - loss: 2.1186 - accuracy: 0.6826 - val_loss: 0.8462 - val_accuracy: 0.5655\n",
      "Epoch 44/100\n",
      "21/21 [==============================] - 1s 42ms/step - loss: 2.2606 - accuracy: 0.6274 - val_loss: 0.8917 - val_accuracy: 0.5536\n",
      "Epoch 45/100\n",
      "21/21 [==============================] - 1s 41ms/step - loss: 2.1964 - accuracy: 0.6975 - val_loss: 1.0583 - val_accuracy: 0.4702\n",
      "Epoch 46/100\n",
      "21/21 [==============================] - 1s 41ms/step - loss: 2.3136 - accuracy: 0.6528 - val_loss: 0.8780 - val_accuracy: 0.5476\n",
      "Epoch 47/100\n",
      "21/21 [==============================] - 1s 42ms/step - loss: 2.3462 - accuracy: 0.6885 - val_loss: 0.8342 - val_accuracy: 0.5952\n",
      "Epoch 48/100\n",
      "21/21 [==============================] - 1s 42ms/step - loss: 2.0764 - accuracy: 0.7109 - val_loss: 0.9654 - val_accuracy: 0.5179\n",
      "Epoch 49/100\n",
      "21/21 [==============================] - 1s 41ms/step - loss: 2.4342 - accuracy: 0.6647 - val_loss: 0.9084 - val_accuracy: 0.5298\n",
      "Epoch 50/100\n",
      "21/21 [==============================] - 1s 41ms/step - loss: 2.2399 - accuracy: 0.6781 - val_loss: 0.9388 - val_accuracy: 0.5595\n",
      "Epoch 51/100\n",
      "21/21 [==============================] - 1s 41ms/step - loss: 2.0438 - accuracy: 0.7183 - val_loss: 0.8334 - val_accuracy: 0.6131\n",
      "Epoch 52/100\n",
      "21/21 [==============================] - 1s 44ms/step - loss: 2.1199 - accuracy: 0.6960 - val_loss: 0.8932 - val_accuracy: 0.5476\n",
      "Epoch 53/100\n",
      "21/21 [==============================] - 1s 42ms/step - loss: 3.2098 - accuracy: 0.6617 - val_loss: 1.0542 - val_accuracy: 0.5179\n",
      "Epoch 54/100\n",
      "21/21 [==============================] - 1s 44ms/step - loss: 2.9852 - accuracy: 0.5440 - val_loss: 0.8136 - val_accuracy: 0.5655\n",
      "Epoch 55/100\n",
      "21/21 [==============================] - 1s 44ms/step - loss: 2.4648 - accuracy: 0.6677 - val_loss: 0.8528 - val_accuracy: 0.5357\n",
      "Epoch 56/100\n",
      "21/21 [==============================] - 1s 43ms/step - loss: 2.1469 - accuracy: 0.6900 - val_loss: 0.9051 - val_accuracy: 0.5298\n",
      "Epoch 57/100\n",
      "21/21 [==============================] - 1s 43ms/step - loss: 2.0341 - accuracy: 0.7213 - val_loss: 1.0008 - val_accuracy: 0.5357\n",
      "Epoch 58/100\n"
     ]
    },
    {
     "name": "stdout",
     "output_type": "stream",
     "text": [
      "21/21 [==============================] - 1s 44ms/step - loss: 1.8781 - accuracy: 0.7258 - val_loss: 0.8136 - val_accuracy: 0.6250\n",
      "Epoch 59/100\n",
      "21/21 [==============================] - 1s 42ms/step - loss: 2.1002 - accuracy: 0.7168 - val_loss: 0.9013 - val_accuracy: 0.6012\n",
      "Epoch 60/100\n",
      "21/21 [==============================] - 1s 42ms/step - loss: 1.8007 - accuracy: 0.7437 - val_loss: 0.9402 - val_accuracy: 0.5774\n",
      "Epoch 61/100\n",
      "21/21 [==============================] - 1s 43ms/step - loss: 1.7063 - accuracy: 0.7556 - val_loss: 0.9349 - val_accuracy: 0.5833\n",
      "Epoch 62/100\n",
      "21/21 [==============================] - 1s 42ms/step - loss: 1.7557 - accuracy: 0.7407 - val_loss: 0.8992 - val_accuracy: 0.6190\n",
      "Epoch 63/100\n",
      "21/21 [==============================] - 1s 46ms/step - loss: 2.0076 - accuracy: 0.7139 - val_loss: 1.0690 - val_accuracy: 0.5000\n",
      "Epoch 64/100\n",
      "21/21 [==============================] - 1s 44ms/step - loss: 1.8592 - accuracy: 0.7183 - val_loss: 0.9422 - val_accuracy: 0.5476\n",
      "Epoch 65/100\n",
      "21/21 [==============================] - 1s 42ms/step - loss: 1.6814 - accuracy: 0.7705 - val_loss: 0.9495 - val_accuracy: 0.5893\n",
      "Epoch 66/100\n",
      "21/21 [==============================] - 1s 42ms/step - loss: 1.6229 - accuracy: 0.7526 - val_loss: 1.0270 - val_accuracy: 0.5476\n",
      "Epoch 67/100\n",
      "21/21 [==============================] - 1s 43ms/step - loss: 1.9365 - accuracy: 0.7213 - val_loss: 0.9978 - val_accuracy: 0.5357\n",
      "Epoch 68/100\n",
      "21/21 [==============================] - 1s 43ms/step - loss: 1.7531 - accuracy: 0.7422 - val_loss: 1.0419 - val_accuracy: 0.5476\n",
      "Epoch 69/100\n",
      "21/21 [==============================] - 1s 43ms/step - loss: 1.5585 - accuracy: 0.7914 - val_loss: 0.8892 - val_accuracy: 0.6250\n",
      "Epoch 70/100\n",
      "21/21 [==============================] - 1s 41ms/step - loss: 1.6756 - accuracy: 0.7705 - val_loss: 0.9531 - val_accuracy: 0.5774\n",
      "Epoch 71/100\n",
      "21/21 [==============================] - 1s 43ms/step - loss: 1.7446 - accuracy: 0.7630 - val_loss: 0.9990 - val_accuracy: 0.5536\n",
      "Epoch 72/100\n",
      "21/21 [==============================] - 1s 42ms/step - loss: 1.6930 - accuracy: 0.7705 - val_loss: 0.8978 - val_accuracy: 0.6190\n",
      "Epoch 73/100\n",
      "21/21 [==============================] - 1s 42ms/step - loss: 1.6451 - accuracy: 0.7884 - val_loss: 1.2030 - val_accuracy: 0.5298\n",
      "Epoch 74/100\n",
      "21/21 [==============================] - 1s 42ms/step - loss: 1.8647 - accuracy: 0.7317 - val_loss: 0.9855 - val_accuracy: 0.5714\n",
      "Epoch 75/100\n",
      "21/21 [==============================] - 1s 42ms/step - loss: 1.4937 - accuracy: 0.7809 - val_loss: 0.9456 - val_accuracy: 0.6369\n",
      "Epoch 76/100\n",
      "21/21 [==============================] - 1s 42ms/step - loss: 1.4172 - accuracy: 0.7794 - val_loss: 0.8376 - val_accuracy: 0.6607\n",
      "Epoch 77/100\n",
      "21/21 [==============================] - 1s 42ms/step - loss: 1.4872 - accuracy: 0.8182 - val_loss: 0.9477 - val_accuracy: 0.5893\n",
      "Epoch 78/100\n",
      "21/21 [==============================] - 1s 42ms/step - loss: 1.6578 - accuracy: 0.7690 - val_loss: 1.1645 - val_accuracy: 0.5238\n",
      "Epoch 79/100\n",
      "21/21 [==============================] - 1s 42ms/step - loss: 2.1303 - accuracy: 0.6766 - val_loss: 0.8968 - val_accuracy: 0.5714\n",
      "Epoch 80/100\n",
      "21/21 [==============================] - 1s 42ms/step - loss: 1.7217 - accuracy: 0.7347 - val_loss: 1.0175 - val_accuracy: 0.5655\n",
      "Epoch 81/100\n",
      "21/21 [==============================] - 1s 42ms/step - loss: 1.5106 - accuracy: 0.7794 - val_loss: 0.9218 - val_accuracy: 0.6071\n",
      "Epoch 82/100\n",
      "21/21 [==============================] - 1s 42ms/step - loss: 1.3822 - accuracy: 0.8197 - val_loss: 0.9918 - val_accuracy: 0.5893\n",
      "Epoch 83/100\n",
      "21/21 [==============================] - 1s 42ms/step - loss: 1.3807 - accuracy: 0.8048 - val_loss: 1.0632 - val_accuracy: 0.5476\n",
      "Epoch 84/100\n",
      "21/21 [==============================] - 1s 43ms/step - loss: 1.7816 - accuracy: 0.7452 - val_loss: 1.0036 - val_accuracy: 0.6131\n",
      "Epoch 85/100\n",
      "21/21 [==============================] - 1s 42ms/step - loss: 1.7275 - accuracy: 0.7750 - val_loss: 1.2200 - val_accuracy: 0.5357\n",
      "Epoch 86/100\n",
      "21/21 [==============================] - 1s 42ms/step - loss: 1.7537 - accuracy: 0.7452 - val_loss: 0.8599 - val_accuracy: 0.6131\n",
      "Epoch 87/100\n",
      "21/21 [==============================] - 1s 42ms/step - loss: 1.3973 - accuracy: 0.8018 - val_loss: 0.9482 - val_accuracy: 0.6310\n",
      "Epoch 88/100\n",
      "21/21 [==============================] - 1s 42ms/step - loss: 1.3400 - accuracy: 0.8227 - val_loss: 0.9405 - val_accuracy: 0.6369\n",
      "Epoch 89/100\n",
      "21/21 [==============================] - 1s 42ms/step - loss: 1.2485 - accuracy: 0.8346 - val_loss: 0.9047 - val_accuracy: 0.6250\n",
      "Epoch 90/100\n",
      "21/21 [==============================] - 1s 42ms/step - loss: 1.2759 - accuracy: 0.8346 - val_loss: 0.9378 - val_accuracy: 0.6369\n",
      "Epoch 91/100\n",
      "21/21 [==============================] - 1s 42ms/step - loss: 1.5674 - accuracy: 0.7779 - val_loss: 1.1068 - val_accuracy: 0.5476\n",
      "Epoch 92/100\n",
      "21/21 [==============================] - 1s 42ms/step - loss: 1.6652 - accuracy: 0.7824 - val_loss: 1.2783 - val_accuracy: 0.4464\n",
      "Epoch 93/100\n",
      "21/21 [==============================] - 1s 42ms/step - loss: 1.9898 - accuracy: 0.7019 - val_loss: 0.8377 - val_accuracy: 0.6845\n",
      "Epoch 94/100\n",
      "21/21 [==============================] - 1s 42ms/step - loss: 1.5957 - accuracy: 0.7541 - val_loss: 0.8550 - val_accuracy: 0.6548\n",
      "Epoch 95/100\n",
      "21/21 [==============================] - 1s 42ms/step - loss: 1.4191 - accuracy: 0.8212 - val_loss: 1.0732 - val_accuracy: 0.5119\n",
      "Epoch 96/100\n",
      "21/21 [==============================] - 1s 42ms/step - loss: 1.3438 - accuracy: 0.8077 - val_loss: 0.9642 - val_accuracy: 0.6369\n",
      "Epoch 97/100\n",
      "21/21 [==============================] - 1s 42ms/step - loss: 1.1126 - accuracy: 0.8346 - val_loss: 0.9051 - val_accuracy: 0.6905\n",
      "Epoch 98/100\n",
      "21/21 [==============================] - 1s 42ms/step - loss: 1.0006 - accuracy: 0.8748 - val_loss: 0.9548 - val_accuracy: 0.6726\n",
      "Epoch 99/100\n",
      "21/21 [==============================] - 1s 41ms/step - loss: 0.9865 - accuracy: 0.8867 - val_loss: 0.9075 - val_accuracy: 0.7024\n",
      "Epoch 100/100\n",
      "21/21 [==============================] - 1s 42ms/step - loss: 0.8738 - accuracy: 0.9001 - val_loss: 0.9559 - val_accuracy: 0.6786\n"
     ]
    }
   ],
   "source": [
    "history = model.fit(X_train, y_train, validation_data=(X_validate, y_validate), batch_size=32, epochs=100, class_weight=class_weight)"
   ]
  },
  {
   "cell_type": "code",
   "execution_count": 27,
   "metadata": {},
   "outputs": [
    {
     "data": {
      "image/png": "[encoded data removed]",
      "text/plain": [
       "<Figure size 432x288 with 2 Axes>"
      ]
     },
     "metadata": {
      "needs_background": "light"
     },
     "output_type": "display_data"
    }
   ],
   "source": [
    "plot_history(history)"
   ]
  },
  {
   "cell_type": "code",
   "execution_count": 28,
   "metadata": {},
   "outputs": [
    {
     "name": "stdout",
     "output_type": "stream",
     "text": [
      "7/7 - 0s - loss: 1.0432 - accuracy: 0.6667\n",
      "Accuracy on test set is: 0.6666666865348816\n",
      "Error on test set is: 1.0431822538375854\n",
      "\n",
      "\n",
      "\n",
      "21/21 - 0s - loss: 0.2576 - accuracy: 0.9165\n",
      "Accuracy on train set is: 0.9165424704551697\n",
      "Error on train set is: 0.25761526823043823\n",
      "\n",
      "\n",
      "\n",
      "6/6 - 0s - loss: 0.9559 - accuracy: 0.6786\n",
      "Accuracy on validation set is: 0.6785714030265808\n",
      "Error on validation set is: 0.9558814764022827\n"
     ]
    }
   ],
   "source": [
    "# evaluate the CNN on the test set\n",
    "test_error, test_accuracy = model.evaluate(X_test, y_test, verbose=2)\n",
    "print(\"Accuracy on test set is: {}\".format(test_accuracy))\n",
    "print(\"Error on test set is: {}\".format(test_error))\n",
    "print(\"\\n\\n\")\n",
    "\n",
    "# evaluate the CNN on the train set\n",
    "test_error, test_accuracy = model.evaluate(X_train, y_train, verbose=2)\n",
    "print(\"Accuracy on train set is: {}\".format(test_accuracy))\n",
    "print(\"Error on train set is: {}\".format(test_error))\n",
    "print(\"\\n\\n\")\n",
    "\n",
    "# evaluate the CNN on the validation set\n",
    "test_error, test_accuracy = model.evaluate(X_validate, y_validate, verbose=2)\n",
    "print(\"Accuracy on validation set is: {}\".format(test_accuracy))\n",
    "print(\"Error on validation set is: {}\".format(test_error))"
   ]
  },
  {
   "cell_type": "code",
   "execution_count": 29,
   "metadata": {},
   "outputs": [
    {
     "data": {
      "text/plain": [
       "<AxesSubplot:>"
      ]
     },
     "execution_count": 29,
     "metadata": {},
     "output_type": "execute_result"
    },
    {
     "data": {
      "image/png": "[encoded data removed]",
      "text/plain": [
       "<Figure size 432x288 with 2 Axes>"
      ]
     },
     "metadata": {
      "needs_background": "light"
     },
     "output_type": "display_data"
    }
   ],
   "source": [
    "y_pred = np.argmax(model.predict(X_test),axis=1)\n",
    "sns.heatmap(confusion_matrix(y_test, y_pred), annot=True, cmap=\"YlGnBu\")"
   ]
  },
  {
   "cell_type": "code",
   "execution_count": null,
   "metadata": {},
   "outputs": [],
   "source": []
  },
  {
   "cell_type": "code",
   "execution_count": null,
   "metadata": {},
   "outputs": [],
   "source": []
  }
 ],
 "metadata": {
  "kernelspec": {
   "display_name": "Python 3",
   "language": "python",
   "name": "python3"
  },
  "language_info": {
   "codemirror_mode": {
    "name": "ipython",
    "version": 3
   },
   "file_extension": ".py",
   "mimetype": "text/x-python",
   "name": "python",
   "nbconvert_exporter": "python",
   "pygments_lexer": "ipython3",
   "version": "3.8.5"
  }
 },
 "nbformat": 4,
 "nbformat_minor": 4
}
